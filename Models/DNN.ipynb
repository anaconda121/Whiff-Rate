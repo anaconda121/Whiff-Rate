{
 "cells": [
  {
   "cell_type": "code",
   "execution_count": 1,
   "metadata": {
    "_cell_guid": "b1076dfc-b9ad-4769-8c92-a6c4dae69d19",
    "_uuid": "8f2839f25d086af736a60e9eeb907d3b93b6e0e5",
    "execution": {
     "iopub.execute_input": "2021-05-27T14:51:50.350906Z",
     "iopub.status.busy": "2021-05-27T14:51:50.350613Z",
     "iopub.status.idle": "2021-05-27T14:51:50.374325Z",
     "shell.execute_reply": "2021-05-27T14:51:50.373409Z",
     "shell.execute_reply.started": "2021-05-27T14:51:50.350839Z"
    }
   },
   "outputs": [
    {
     "name": "stdout",
     "output_type": "stream",
     "text": [
      "/kaggle/input/mlb-pitch-data-20152018/pitches.csv\n",
      "/kaggle/input/mlb-pitch-data-20152018/atbats.csv\n",
      "/kaggle/input/mlb-pitch-data-20152018/games.csv\n",
      "/kaggle/input/mlb-pitch-data-20152018/2019_games.csv\n",
      "/kaggle/input/mlb-pitch-data-20152018/2019_atbats.csv\n",
      "/kaggle/input/mlb-pitch-data-20152018/2019_pitches.csv\n",
      "/kaggle/input/mlb-pitch-data-20152018/player_names.csv\n",
      "/kaggle/input/mlb-pitch-data-20152018/ejections.csv\n"
     ]
    }
   ],
   "source": [
    "# This Python 3 environment comes with many helpful analytics libraries installed\n",
    "# It is defined by the kaggle/python Docker image: https://github.com/kaggle/docker-python\n",
    "# For example, here's several helpful packages to load\n",
    "\n",
    "import numpy as np # linear algebra\n",
    "import pandas as pd # data processing, CSV file I/O (e.g. pd.read_csv)\n",
    "\n",
    "# Input data files are available in the read-only \"../input/\" directory\n",
    "# For example, running this (by clicking run or pressing Shift+Enter) will list all files under the input directory\n",
    "\n",
    "import os\n",
    "for dirname, _, filenames in os.walk('/kaggle/input'):\n",
    "    for filename in filenames:\n",
    "        print(os.path.join(dirname, filename))\n",
    "\n",
    "# You can write up to 20GB to the current directory (/kaggle/working/) that gets preserved as output when you create a version using \"Save & Run All\" \n",
    "# You can also write temporary files to /kaggle/temp/, but they won't be saved outside of the current session"
   ]
  },
  {
   "cell_type": "code",
   "execution_count": 2,
   "metadata": {
    "execution": {
     "iopub.execute_input": "2021-05-27T14:52:30.027119Z",
     "iopub.status.busy": "2021-05-27T14:52:30.026803Z",
     "iopub.status.idle": "2021-05-27T14:52:30.669509Z",
     "shell.execute_reply": "2021-05-27T14:52:30.668687Z",
     "shell.execute_reply.started": "2021-05-27T14:52:30.027092Z"
    }
   },
   "outputs": [],
   "source": [
    "import seaborn as sns"
   ]
  },
  {
   "cell_type": "code",
   "execution_count": 3,
   "metadata": {
    "execution": {
     "iopub.execute_input": "2021-05-27T14:52:32.336963Z",
     "iopub.status.busy": "2021-05-27T14:52:32.336624Z",
     "iopub.status.idle": "2021-05-27T14:52:50.578387Z",
     "shell.execute_reply": "2021-05-27T14:52:50.577451Z",
     "shell.execute_reply.started": "2021-05-27T14:52:32.336933Z"
    }
   },
   "outputs": [
    {
     "name": "stdout",
     "output_type": "stream",
     "text": [
      "size: 114686160\n",
      "shape: (2867154, 40)\n",
      "columns: Index(['px', 'pz', 'start_speed', 'end_speed', 'spin_rate', 'spin_dir',\n",
      "       'break_angle', 'break_length', 'break_y', 'ax', 'ay', 'az', 'sz_bot',\n",
      "       'sz_top', 'type_confidence', 'vx0', 'vy0', 'vz0', 'x', 'x0', 'y', 'y0',\n",
      "       'z0', 'pfx_x', 'pfx_z', 'nasty', 'zone', 'code', 'type', 'pitch_type',\n",
      "       'event_num', 'b_score', 'ab_id', 'b_count', 's_count', 'outs',\n",
      "       'pitch_num', 'on_1b', 'on_2b', 'on_3b'],\n",
      "      dtype='object')\n"
     ]
    }
   ],
   "source": [
    "data_raw = pd.read_csv('/kaggle/input/mlb-pitch-data-20152018/pitches.csv')\n",
    "# Print out size, shape, and column names\n",
    "print(\"size: \" + str(data_raw.size))\n",
    "print(\"shape: \" + str(data_raw.shape))\n",
    "print(\"columns: \" + str(data_raw.columns))"
   ]
  },
  {
   "cell_type": "code",
   "execution_count": 4,
   "metadata": {
    "execution": {
     "iopub.execute_input": "2021-05-27T14:53:04.462453Z",
     "iopub.status.busy": "2021-05-27T14:53:04.462118Z",
     "iopub.status.idle": "2021-05-27T14:53:06.055114Z",
     "shell.execute_reply": "2021-05-27T14:53:06.054231Z",
     "shell.execute_reply.started": "2021-05-27T14:53:04.462423Z"
    }
   },
   "outputs": [
    {
     "name": "stdout",
     "output_type": "stream",
     "text": [
      "(55282, 35)\n"
     ]
    }
   ],
   "source": [
    "df = data_raw\n",
    "# dropping useless columns and rows with null values\n",
    "df = df.drop([\"zone\", \"type_confidence\", \"pitch_type\", \"ab_id\", \"event_num\"], axis = 1)\n",
    "df = df.dropna()\n",
    "# drop everything except swinging strikes and foul balls\n",
    "df = df[df.code.isin(['S', 'F'])]\n",
    "# only 2-strike counts\n",
    "df = df[df.s_count == 2]\n",
    "df = df[df.b_count == 3]\n",
    "print(df.shape)"
   ]
  },
  {
   "cell_type": "code",
   "execution_count": 6,
   "metadata": {
    "execution": {
     "iopub.execute_input": "2021-05-27T14:53:17.268081Z",
     "iopub.status.busy": "2021-05-27T14:53:17.267763Z",
     "iopub.status.idle": "2021-05-27T14:53:17.366253Z",
     "shell.execute_reply": "2021-05-27T14:53:17.364315Z",
     "shell.execute_reply.started": "2021-05-27T14:53:17.268051Z"
    }
   },
   "outputs": [
    {
     "name": "stdout",
     "output_type": "stream",
     "text": [
      "(55282, 25)\n"
     ]
    },
    {
     "ename": "KeyError",
     "evalue": "\"['y0' 'type' 'b_score' 'outs' 'pitch_num' 'b_count' 's_count' 'on_1b'\\n 'on_2b' 'on_3b'] not found in axis\"",
     "output_type": "error",
     "traceback": [
      "\u001b[0;31m---------------------------------------------------------------------------\u001b[0m",
      "\u001b[0;31mKeyError\u001b[0m                                  Traceback (most recent call last)",
      "\u001b[0;32m<ipython-input-6-ad98a992b594>\u001b[0m in \u001b[0;36m<module>\u001b[0;34m\u001b[0m\n\u001b[1;32m      1\u001b[0m \u001b[0mprint\u001b[0m\u001b[0;34m(\u001b[0m\u001b[0mdf\u001b[0m\u001b[0;34m.\u001b[0m\u001b[0mshape\u001b[0m\u001b[0;34m)\u001b[0m\u001b[0;34m\u001b[0m\u001b[0;34m\u001b[0m\u001b[0m\n\u001b[0;32m----> 2\u001b[0;31m \u001b[0mdf\u001b[0m \u001b[0;34m=\u001b[0m \u001b[0mdf\u001b[0m\u001b[0;34m.\u001b[0m\u001b[0mdrop\u001b[0m\u001b[0;34m(\u001b[0m\u001b[0;34m[\u001b[0m\u001b[0;34m\"y0\"\u001b[0m\u001b[0;34m,\u001b[0m \u001b[0;34m\"type\"\u001b[0m\u001b[0;34m,\u001b[0m \u001b[0;34m\"b_score\"\u001b[0m\u001b[0;34m,\u001b[0m \u001b[0;34m\"outs\"\u001b[0m\u001b[0;34m,\u001b[0m \u001b[0;34m\"pitch_num\"\u001b[0m\u001b[0;34m,\u001b[0m \u001b[0;34m\"b_count\"\u001b[0m\u001b[0;34m,\u001b[0m \u001b[0;34m\"s_count\"\u001b[0m\u001b[0;34m,\u001b[0m \u001b[0;34m\"on_1b\"\u001b[0m\u001b[0;34m,\u001b[0m \u001b[0;34m\"on_2b\"\u001b[0m\u001b[0;34m,\u001b[0m \u001b[0;34m\"on_3b\"\u001b[0m\u001b[0;34m]\u001b[0m\u001b[0;34m,\u001b[0m \u001b[0maxis\u001b[0m \u001b[0;34m=\u001b[0m \u001b[0;36m1\u001b[0m\u001b[0;34m)\u001b[0m\u001b[0;34m\u001b[0m\u001b[0;34m\u001b[0m\u001b[0m\n\u001b[0m",
      "\u001b[0;32m/opt/conda/lib/python3.7/site-packages/pandas/core/frame.py\u001b[0m in \u001b[0;36mdrop\u001b[0;34m(self, labels, axis, index, columns, level, inplace, errors)\u001b[0m\n\u001b[1;32m   4172\u001b[0m             \u001b[0mlevel\u001b[0m\u001b[0;34m=\u001b[0m\u001b[0mlevel\u001b[0m\u001b[0;34m,\u001b[0m\u001b[0;34m\u001b[0m\u001b[0;34m\u001b[0m\u001b[0m\n\u001b[1;32m   4173\u001b[0m             \u001b[0minplace\u001b[0m\u001b[0;34m=\u001b[0m\u001b[0minplace\u001b[0m\u001b[0;34m,\u001b[0m\u001b[0;34m\u001b[0m\u001b[0;34m\u001b[0m\u001b[0m\n\u001b[0;32m-> 4174\u001b[0;31m             \u001b[0merrors\u001b[0m\u001b[0;34m=\u001b[0m\u001b[0merrors\u001b[0m\u001b[0;34m,\u001b[0m\u001b[0;34m\u001b[0m\u001b[0;34m\u001b[0m\u001b[0m\n\u001b[0m\u001b[1;32m   4175\u001b[0m         )\n\u001b[1;32m   4176\u001b[0m \u001b[0;34m\u001b[0m\u001b[0m\n",
      "\u001b[0;32m/opt/conda/lib/python3.7/site-packages/pandas/core/generic.py\u001b[0m in \u001b[0;36mdrop\u001b[0;34m(self, labels, axis, index, columns, level, inplace, errors)\u001b[0m\n\u001b[1;32m   3887\u001b[0m         \u001b[0;32mfor\u001b[0m \u001b[0maxis\u001b[0m\u001b[0;34m,\u001b[0m \u001b[0mlabels\u001b[0m \u001b[0;32min\u001b[0m \u001b[0maxes\u001b[0m\u001b[0;34m.\u001b[0m\u001b[0mitems\u001b[0m\u001b[0;34m(\u001b[0m\u001b[0;34m)\u001b[0m\u001b[0;34m:\u001b[0m\u001b[0;34m\u001b[0m\u001b[0;34m\u001b[0m\u001b[0m\n\u001b[1;32m   3888\u001b[0m             \u001b[0;32mif\u001b[0m \u001b[0mlabels\u001b[0m \u001b[0;32mis\u001b[0m \u001b[0;32mnot\u001b[0m \u001b[0;32mNone\u001b[0m\u001b[0;34m:\u001b[0m\u001b[0;34m\u001b[0m\u001b[0;34m\u001b[0m\u001b[0m\n\u001b[0;32m-> 3889\u001b[0;31m                 \u001b[0mobj\u001b[0m \u001b[0;34m=\u001b[0m \u001b[0mobj\u001b[0m\u001b[0;34m.\u001b[0m\u001b[0m_drop_axis\u001b[0m\u001b[0;34m(\u001b[0m\u001b[0mlabels\u001b[0m\u001b[0;34m,\u001b[0m \u001b[0maxis\u001b[0m\u001b[0;34m,\u001b[0m \u001b[0mlevel\u001b[0m\u001b[0;34m=\u001b[0m\u001b[0mlevel\u001b[0m\u001b[0;34m,\u001b[0m \u001b[0merrors\u001b[0m\u001b[0;34m=\u001b[0m\u001b[0merrors\u001b[0m\u001b[0;34m)\u001b[0m\u001b[0;34m\u001b[0m\u001b[0;34m\u001b[0m\u001b[0m\n\u001b[0m\u001b[1;32m   3890\u001b[0m \u001b[0;34m\u001b[0m\u001b[0m\n\u001b[1;32m   3891\u001b[0m         \u001b[0;32mif\u001b[0m \u001b[0minplace\u001b[0m\u001b[0;34m:\u001b[0m\u001b[0;34m\u001b[0m\u001b[0;34m\u001b[0m\u001b[0m\n",
      "\u001b[0;32m/opt/conda/lib/python3.7/site-packages/pandas/core/generic.py\u001b[0m in \u001b[0;36m_drop_axis\u001b[0;34m(self, labels, axis, level, errors)\u001b[0m\n\u001b[1;32m   3921\u001b[0m                 \u001b[0mnew_axis\u001b[0m \u001b[0;34m=\u001b[0m \u001b[0maxis\u001b[0m\u001b[0;34m.\u001b[0m\u001b[0mdrop\u001b[0m\u001b[0;34m(\u001b[0m\u001b[0mlabels\u001b[0m\u001b[0;34m,\u001b[0m \u001b[0mlevel\u001b[0m\u001b[0;34m=\u001b[0m\u001b[0mlevel\u001b[0m\u001b[0;34m,\u001b[0m \u001b[0merrors\u001b[0m\u001b[0;34m=\u001b[0m\u001b[0merrors\u001b[0m\u001b[0;34m)\u001b[0m\u001b[0;34m\u001b[0m\u001b[0;34m\u001b[0m\u001b[0m\n\u001b[1;32m   3922\u001b[0m             \u001b[0;32melse\u001b[0m\u001b[0;34m:\u001b[0m\u001b[0;34m\u001b[0m\u001b[0;34m\u001b[0m\u001b[0m\n\u001b[0;32m-> 3923\u001b[0;31m                 \u001b[0mnew_axis\u001b[0m \u001b[0;34m=\u001b[0m \u001b[0maxis\u001b[0m\u001b[0;34m.\u001b[0m\u001b[0mdrop\u001b[0m\u001b[0;34m(\u001b[0m\u001b[0mlabels\u001b[0m\u001b[0;34m,\u001b[0m \u001b[0merrors\u001b[0m\u001b[0;34m=\u001b[0m\u001b[0merrors\u001b[0m\u001b[0;34m)\u001b[0m\u001b[0;34m\u001b[0m\u001b[0;34m\u001b[0m\u001b[0m\n\u001b[0m\u001b[1;32m   3924\u001b[0m             \u001b[0mresult\u001b[0m \u001b[0;34m=\u001b[0m \u001b[0mself\u001b[0m\u001b[0;34m.\u001b[0m\u001b[0mreindex\u001b[0m\u001b[0;34m(\u001b[0m\u001b[0;34m**\u001b[0m\u001b[0;34m{\u001b[0m\u001b[0maxis_name\u001b[0m\u001b[0;34m:\u001b[0m \u001b[0mnew_axis\u001b[0m\u001b[0;34m}\u001b[0m\u001b[0;34m)\u001b[0m\u001b[0;34m\u001b[0m\u001b[0;34m\u001b[0m\u001b[0m\n\u001b[1;32m   3925\u001b[0m \u001b[0;34m\u001b[0m\u001b[0m\n",
      "\u001b[0;32m/opt/conda/lib/python3.7/site-packages/pandas/core/indexes/base.py\u001b[0m in \u001b[0;36mdrop\u001b[0;34m(self, labels, errors)\u001b[0m\n\u001b[1;32m   5285\u001b[0m         \u001b[0;32mif\u001b[0m \u001b[0mmask\u001b[0m\u001b[0;34m.\u001b[0m\u001b[0many\u001b[0m\u001b[0;34m(\u001b[0m\u001b[0;34m)\u001b[0m\u001b[0;34m:\u001b[0m\u001b[0;34m\u001b[0m\u001b[0;34m\u001b[0m\u001b[0m\n\u001b[1;32m   5286\u001b[0m             \u001b[0;32mif\u001b[0m \u001b[0merrors\u001b[0m \u001b[0;34m!=\u001b[0m \u001b[0;34m\"ignore\"\u001b[0m\u001b[0;34m:\u001b[0m\u001b[0;34m\u001b[0m\u001b[0;34m\u001b[0m\u001b[0m\n\u001b[0;32m-> 5287\u001b[0;31m                 \u001b[0;32mraise\u001b[0m \u001b[0mKeyError\u001b[0m\u001b[0;34m(\u001b[0m\u001b[0;34mf\"{labels[mask]} not found in axis\"\u001b[0m\u001b[0;34m)\u001b[0m\u001b[0;34m\u001b[0m\u001b[0;34m\u001b[0m\u001b[0m\n\u001b[0m\u001b[1;32m   5288\u001b[0m             \u001b[0mindexer\u001b[0m \u001b[0;34m=\u001b[0m \u001b[0mindexer\u001b[0m\u001b[0;34m[\u001b[0m\u001b[0;34m~\u001b[0m\u001b[0mmask\u001b[0m\u001b[0;34m]\u001b[0m\u001b[0;34m\u001b[0m\u001b[0;34m\u001b[0m\u001b[0m\n\u001b[1;32m   5289\u001b[0m         \u001b[0;32mreturn\u001b[0m \u001b[0mself\u001b[0m\u001b[0;34m.\u001b[0m\u001b[0mdelete\u001b[0m\u001b[0;34m(\u001b[0m\u001b[0mindexer\u001b[0m\u001b[0;34m)\u001b[0m\u001b[0;34m\u001b[0m\u001b[0;34m\u001b[0m\u001b[0m\n",
      "\u001b[0;31mKeyError\u001b[0m: \"['y0' 'type' 'b_score' 'outs' 'pitch_num' 'b_count' 's_count' 'on_1b'\\n 'on_2b' 'on_3b'] not found in axis\""
     ]
    }
   ],
   "source": [
    "print(df.shape)\n",
    "df = df.drop([\"y0\", \"type\", \"b_score\", \"outs\", \"pitch_num\", \"b_count\", \"s_count\", \"on_1b\", \"on_2b\", \"on_3b\"], axis = 1)"
   ]
  },
  {
   "cell_type": "code",
   "execution_count": 7,
   "metadata": {
    "execution": {
     "iopub.execute_input": "2021-05-27T14:53:27.953616Z",
     "iopub.status.busy": "2021-05-27T14:53:27.953269Z",
     "iopub.status.idle": "2021-05-27T14:53:27.958310Z",
     "shell.execute_reply": "2021-05-27T14:53:27.957317Z",
     "shell.execute_reply.started": "2021-05-27T14:53:27.953584Z"
    }
   },
   "outputs": [
    {
     "name": "stdout",
     "output_type": "stream",
     "text": [
      "Index(['px', 'pz', 'start_speed', 'end_speed', 'spin_rate', 'spin_dir',\n",
      "       'break_angle', 'break_length', 'break_y', 'ax', 'ay', 'az', 'sz_bot',\n",
      "       'sz_top', 'vx0', 'vy0', 'vz0', 'x', 'x0', 'y', 'z0', 'pfx_x', 'pfx_z',\n",
      "       'nasty', 'code'],\n",
      "      dtype='object')\n"
     ]
    }
   ],
   "source": [
    "print(df.columns)"
   ]
  },
  {
   "cell_type": "code",
   "execution_count": 8,
   "metadata": {
    "execution": {
     "iopub.execute_input": "2021-05-27T14:53:30.839958Z",
     "iopub.status.busy": "2021-05-27T14:53:30.839359Z",
     "iopub.status.idle": "2021-05-27T14:53:30.888947Z",
     "shell.execute_reply": "2021-05-27T14:53:30.888203Z",
     "shell.execute_reply.started": "2021-05-27T14:53:30.839913Z"
    }
   },
   "outputs": [
    {
     "name": "stdout",
     "output_type": "stream",
     "text": [
      "(15199, 25)\n"
     ]
    },
    {
     "data": {
      "text/plain": [
       "(30398, 25)"
      ]
     },
     "execution_count": 8,
     "metadata": {},
     "output_type": "execute_result"
    }
   ],
   "source": [
    "# balance out the cases\n",
    "strikes = df[df.code == 'S']\n",
    "fouls = df[df.code == 'F']\n",
    "fouls = fouls[0:len(strikes)]\n",
    "tojoin = [strikes, fouls]\n",
    "df = pd.concat(tojoin)\n",
    "print(strikes.shape)\n",
    "df.shape"
   ]
  },
  {
   "cell_type": "code",
   "execution_count": 9,
   "metadata": {
    "execution": {
     "iopub.execute_input": "2021-05-27T14:53:33.615932Z",
     "iopub.status.busy": "2021-05-27T14:53:33.615624Z",
     "iopub.status.idle": "2021-05-27T14:53:33.854079Z",
     "shell.execute_reply": "2021-05-27T14:53:33.853274Z",
     "shell.execute_reply.started": "2021-05-27T14:53:33.615905Z"
    }
   },
   "outputs": [],
   "source": [
    "from sklearn.preprocessing import PolynomialFeatures\n",
    "from sklearn.pipeline import make_pipeline\n",
    "from sklearn.linear_model import LinearRegression\n",
    "import sklearn.model_selection as tts"
   ]
  },
  {
   "cell_type": "code",
   "execution_count": 10,
   "metadata": {
    "execution": {
     "iopub.execute_input": "2021-05-27T14:53:35.247054Z",
     "iopub.status.busy": "2021-05-27T14:53:35.246726Z",
     "iopub.status.idle": "2021-05-27T14:53:35.251784Z",
     "shell.execute_reply": "2021-05-27T14:53:35.250938Z",
     "shell.execute_reply.started": "2021-05-27T14:53:35.247025Z"
    }
   },
   "outputs": [
    {
     "name": "stdout",
     "output_type": "stream",
     "text": [
      "Index(['px', 'pz', 'start_speed', 'end_speed', 'spin_rate', 'spin_dir',\n",
      "       'break_angle', 'break_length', 'break_y', 'ax', 'ay', 'az', 'sz_bot',\n",
      "       'sz_top', 'vx0', 'vy0', 'vz0', 'x', 'x0', 'y', 'z0', 'pfx_x', 'pfx_z',\n",
      "       'nasty', 'code'],\n",
      "      dtype='object')\n"
     ]
    }
   ],
   "source": [
    "print(df.columns)"
   ]
  },
  {
   "cell_type": "code",
   "execution_count": 15,
   "metadata": {
    "execution": {
     "iopub.execute_input": "2021-05-27T14:56:36.967432Z",
     "iopub.status.busy": "2021-05-27T14:56:36.967108Z",
     "iopub.status.idle": "2021-05-27T14:56:37.309368Z",
     "shell.execute_reply": "2021-05-27T14:56:37.308450Z",
     "shell.execute_reply.started": "2021-05-27T14:56:36.967401Z"
    }
   },
   "outputs": [
    {
     "name": "stdout",
     "output_type": "stream",
     "text": [
      "[1 1 1 ... 0 0 0]\n",
      "23\n"
     ]
    }
   ],
   "source": [
    "from sklearn import preprocessing\n",
    "#creating labelEncoder\n",
    "le = preprocessing.LabelEncoder()\n",
    "px_encoded = le.fit_transform(df.px)\n",
    "pz_encoded= le.fit_transform(df.pz)\n",
    "start_encoded=le.fit_transform(df.start_speed)\n",
    "end_encoded=le.fit_transform(df.end_speed)\n",
    "spin_encoded=le.fit_transform(df.spin_rate)\n",
    "spin_dir_encoded=le.fit_transform(df.spin_dir)\n",
    "break_encoded=le.fit_transform(df.break_angle)\n",
    "break_length_encoded=le.fit_transform(df.break_length)\n",
    "break_y_encoded=le.fit_transform(df.break_y)\n",
    "ax_encoded=le.fit_transform(df.ax)\n",
    "ay_encoded=le.fit_transform(df.ay)\n",
    "az_encoded=le.fit_transform(df.az)\n",
    "sz_bot_encoded=le.fit_transform(df.sz_bot)\n",
    "sz_top_encoded=le.fit_transform(df.sz_top)\n",
    "vx0_encoded=le.fit_transform(df.vx0)\n",
    "vy0_encoded=le.fit_transform(df.vy0)\n",
    "vz0_encoded=le.fit_transform(df.vz0)\n",
    "x_encoded=le.fit_transform(df.x)\n",
    "x0_encoded=le.fit_transform(df.x0)\n",
    "y_encoded=le.fit_transform(df.y)\n",
    "z0_encoded=le.fit_transform(df.z0)\n",
    "pfx_x_encoded=le.fit_transform(df.pfx_x)\n",
    "pfx_z_encoded=le.fit_transform(df.pfx_z)\n",
    "nasty_encoded = le.fit_transform(df.nasty)\n",
    "\n",
    "features = np.array(list(zip(px_encoded,pz_encoded,start_encoded,end_encoded, spin_encoded,spin_dir_encoded,break_encoded,\n",
    "              break_length_encoded,break_y_encoded,ax_encoded,ay_encoded,az_encoded,sz_bot_encoded,\n",
    "              sz_top_encoded,vx0_encoded,vz0_encoded,x_encoded,x0_encoded,y_encoded, z0_encoded,\n",
    "              pfx_x_encoded,pfx_z_encoded, nasty_encoded)))\n",
    "code_encoded = le.fit_transform(df.code) #S = 1, F = 0\n",
    "print(code_encoded)\n",
    "print(len(features[0]))"
   ]
  },
  {
   "cell_type": "code",
   "execution_count": 12,
   "metadata": {
    "execution": {
     "iopub.execute_input": "2021-05-27T14:55:19.163258Z",
     "iopub.status.busy": "2021-05-27T14:55:19.162929Z",
     "iopub.status.idle": "2021-05-27T14:55:20.638840Z",
     "shell.execute_reply": "2021-05-27T14:55:20.637984Z",
     "shell.execute_reply.started": "2021-05-27T14:55:19.163228Z"
    }
   },
   "outputs": [],
   "source": [
    "#df.transpose()[:23].transpose()\n",
    "features_train, features_test, label_train,label_test = tts.train_test_split(features, code_encoded, test_size = 0.1, random_state = 69)\n",
    "features_train_2, features_test_2, label_train_2,label_test_2 = tts.train_test_split(df.transpose()[:25].transpose(), code_encoded, test_size = 0.1, random_state = 69)"
   ]
  },
  {
   "cell_type": "code",
   "execution_count": 13,
   "metadata": {
    "execution": {
     "iopub.execute_input": "2021-05-27T14:55:58.834358Z",
     "iopub.status.busy": "2021-05-27T14:55:58.834043Z",
     "iopub.status.idle": "2021-05-27T14:55:58.857553Z",
     "shell.execute_reply": "2021-05-27T14:55:58.856752Z",
     "shell.execute_reply.started": "2021-05-27T14:55:58.834328Z"
    }
   },
   "outputs": [],
   "source": [
    "features_train = np.array(features_train)\n",
    "labels_train = np.array(label_train)\n",
    "features_test = np.array(features_test)\n",
    "labels_test = np.array(label_test)\n",
    "\n",
    "features_train_2 = np.array(features_train_2)\n",
    "labels_train_2 = np.array(label_train_2)\n",
    "features_test_2 = np.array(features_test_2)\n",
    "labels_test_2 = np.array(label_test_2)"
   ]
  },
  {
   "cell_type": "code",
   "execution_count": 14,
   "metadata": {
    "execution": {
     "iopub.execute_input": "2021-05-27T14:56:10.586209Z",
     "iopub.status.busy": "2021-05-27T14:56:10.585894Z",
     "iopub.status.idle": "2021-05-27T14:56:10.592572Z",
     "shell.execute_reply": "2021-05-27T14:56:10.591585Z",
     "shell.execute_reply.started": "2021-05-27T14:56:10.586179Z"
    }
   },
   "outputs": [
    {
     "name": "stdout",
     "output_type": "stream",
     "text": [
      "(27358, 23)\n",
      "(27358, 25)\n"
     ]
    }
   ],
   "source": [
    "print(features_train.shape)\n",
    "print(features_train_2.shape)"
   ]
  },
  {
   "cell_type": "code",
   "execution_count": null,
   "metadata": {
    "execution": {
     "iopub.execute_input": "2021-05-25T14:29:38.065702Z",
     "iopub.status.busy": "2021-05-25T14:29:38.065382Z",
     "iopub.status.idle": "2021-05-25T14:29:38.083631Z",
     "shell.execute_reply": "2021-05-25T14:29:38.082627Z",
     "shell.execute_reply.started": "2021-05-25T14:29:38.065673Z"
    }
   },
   "outputs": [],
   "source": [
    "from sklearn.naive_bayes import GaussianNB\n",
    "\n",
    "#Create a Gaussian Classifier\n",
    "model = GaussianNB()\n",
    "\n",
    "# Train the model using the training sets\n",
    "model.fit(features_train, labels_train)"
   ]
  },
  {
   "cell_type": "code",
   "execution_count": null,
   "metadata": {
    "execution": {
     "iopub.execute_input": "2021-05-25T14:29:40.311799Z",
     "iopub.status.busy": "2021-05-25T14:29:40.311461Z",
     "iopub.status.idle": "2021-05-25T14:29:40.317671Z",
     "shell.execute_reply": "2021-05-25T14:29:40.316644Z",
     "shell.execute_reply.started": "2021-05-25T14:29:40.311769Z"
    }
   },
   "outputs": [],
   "source": [
    "predictions = model.predict(features_test)\n"
   ]
  },
  {
   "cell_type": "code",
   "execution_count": null,
   "metadata": {
    "execution": {
     "iopub.execute_input": "2021-05-25T14:29:42.125719Z",
     "iopub.status.busy": "2021-05-25T14:29:42.125387Z",
     "iopub.status.idle": "2021-05-25T14:29:42.132852Z",
     "shell.execute_reply": "2021-05-25T14:29:42.132003Z",
     "shell.execute_reply.started": "2021-05-25T14:29:42.12569Z"
    }
   },
   "outputs": [],
   "source": [
    "from sklearn import metrics\n",
    "\n",
    "# Model Accuracy, how often is the classifier correct?\n",
    "\n",
    "print(\"Accuracy:\",metrics.accuracy_score(labels_test, predictions))\n",
    "\n",
    "# right = 0\n",
    "# for i in range(len(predictions)):\n",
    "#     if (predictions[i] == labels_train[i]):\n",
    "#         right += 1\n",
    "        \n",
    "# print(right / len(predictions))"
   ]
  },
  {
   "cell_type": "code",
   "execution_count": 29,
   "metadata": {
    "execution": {
     "iopub.execute_input": "2021-05-27T15:04:29.075605Z",
     "iopub.status.busy": "2021-05-27T15:04:29.075273Z",
     "iopub.status.idle": "2021-05-27T15:04:29.083258Z",
     "shell.execute_reply": "2021-05-27T15:04:29.079656Z",
     "shell.execute_reply.started": "2021-05-27T15:04:29.075575Z"
    }
   },
   "outputs": [
    {
     "name": "stdout",
     "output_type": "stream",
     "text": [
      "(27358,)\n",
      "27358\n",
      "25\n"
     ]
    }
   ],
   "source": [
    "print(labels_train.shape)\n",
    "print(labels_train_2.shape[0])\n",
    "print(features_train_2.shape[1])"
   ]
  },
  {
   "cell_type": "code",
   "execution_count": null,
   "metadata": {
    "execution": {
     "iopub.execute_input": "2021-05-25T14:29:49.542204Z",
     "iopub.status.busy": "2021-05-25T14:29:49.541885Z",
     "iopub.status.idle": "2021-05-25T14:29:49.553711Z",
     "shell.execute_reply": "2021-05-25T14:29:49.552596Z",
     "shell.execute_reply.started": "2021-05-25T14:29:49.542174Z"
    }
   },
   "outputs": [],
   "source": [
    "from sklearn.metrics import confusion_matrix as cm\n",
    "\n",
    "cm(labels_test,predictions)\n",
    "\n",
    "# 1009 true negatives\n",
    "# 514 false positives\n",
    "# 641 false negatives\n",
    "# 876 true positives"
   ]
  },
  {
   "cell_type": "code",
   "execution_count": 16,
   "metadata": {
    "execution": {
     "iopub.execute_input": "2021-05-27T14:57:06.845025Z",
     "iopub.status.busy": "2021-05-27T14:57:06.844706Z",
     "iopub.status.idle": "2021-05-27T14:57:11.649667Z",
     "shell.execute_reply": "2021-05-27T14:57:11.648805Z",
     "shell.execute_reply.started": "2021-05-27T14:57:06.844998Z"
    }
   },
   "outputs": [],
   "source": [
    "import keras\n",
    "from keras import metrics\n",
    "from keras import regularizers\n",
    "from keras.models import Sequential, load_model\n",
    "from keras.layers import Dense, Dropout, Flatten, Activation\n",
    "from keras.optimizers import Adam, RMSprop\n",
    "from keras.callbacks import TensorBoard, EarlyStopping, ModelCheckpoint\n",
    "from keras.utils import plot_model\n",
    "import tensorflow as tf \n",
    "from tensorflow import keras\n",
    "from tensorflow.keras import datasets, layers, models"
   ]
  },
  {
   "cell_type": "code",
   "execution_count": 57,
   "metadata": {
    "execution": {
     "iopub.execute_input": "2021-05-27T15:23:46.306381Z",
     "iopub.status.busy": "2021-05-27T15:23:46.306056Z",
     "iopub.status.idle": "2021-05-27T15:23:46.443794Z",
     "shell.execute_reply": "2021-05-27T15:23:46.442919Z",
     "shell.execute_reply.started": "2021-05-27T15:23:46.306349Z"
    }
   },
   "outputs": [],
   "source": [
    "t_model = models.Sequential()\n",
    "t_model.add(layers.Dense(10000, activation=\"relu\", input_shape=(features_train.shape)))\n",
    "t_model.add(layers.Dropout(0.40))\n",
    "t_model.add(layers.Dense(5000, activation=\"relu\"))\n",
    "t_model.add(layers.Dropout(0.25))\n",
    "t_model.add(layers.Dense(2500, activation=\"relu\"))\n",
    "t_model.add(layers.Dropout(0.1))\n",
    "t_model.add(layers.Dense(1250, activation=\"relu\"))\n",
    "t_model.add(layers.Dropout(0.1))\n",
    "t_model.add(layers.Dense(625, activation=\"relu\"))\n",
    "t_model.add(layers.Dropout(0.1))\n",
    "t_model.add(layers.Dense(313, activation=\"relu\"))\n",
    "t_model.add(layers.Dropout(0.1))\n",
    "t_model.add(layers.Dense(labels_train.shape[0]))\n",
    "t_model.compile(\n",
    "    loss=\"binary_crossentropy\",\n",
    "    optimizer=Adam(lr=0.001),\n",
    "    metrics=['accuracy'])"
   ]
  },
  {
   "cell_type": "code",
   "execution_count": 58,
   "metadata": {
    "execution": {
     "iopub.execute_input": "2021-05-27T15:23:48.707213Z",
     "iopub.status.busy": "2021-05-27T15:23:48.706908Z",
     "iopub.status.idle": "2021-05-27T15:28:48.391070Z",
     "shell.execute_reply": "2021-05-27T15:28:48.388562Z",
     "shell.execute_reply.started": "2021-05-27T15:23:48.707184Z"
    }
   },
   "outputs": [
    {
     "name": "stdout",
     "output_type": "stream",
     "text": [
      "Epoch 1/1000\n",
      "214/214 [==============================] - 6s 25ms/step - loss: 7.6646 - accuracy: 0.0000e+00 - val_loss: 7.6673 - val_accuracy: 0.0000e+00\n",
      "Epoch 2/1000\n",
      "214/214 [==============================] - 5s 24ms/step - loss: 7.6690 - accuracy: 0.0000e+00 - val_loss: 7.6673 - val_accuracy: 0.0000e+00\n",
      "Epoch 3/1000\n",
      "214/214 [==============================] - 5s 24ms/step - loss: 7.6681 - accuracy: 0.0000e+00 - val_loss: 7.6674 - val_accuracy: 0.0000e+00\n",
      "Epoch 4/1000\n",
      "214/214 [==============================] - 5s 24ms/step - loss: 7.6672 - accuracy: 0.0000e+00 - val_loss: 7.6676 - val_accuracy: 0.0000e+00\n",
      "Epoch 5/1000\n",
      "214/214 [==============================] - 5s 24ms/step - loss: 7.6663 - accuracy: 0.0000e+00 - val_loss: 7.6673 - val_accuracy: 0.0000e+00\n",
      "Epoch 6/1000\n",
      "214/214 [==============================] - 5s 24ms/step - loss: 7.6673 - accuracy: 0.0000e+00 - val_loss: 7.6675 - val_accuracy: 0.0000e+00\n",
      "Epoch 7/1000\n",
      "214/214 [==============================] - 5s 24ms/step - loss: 7.6659 - accuracy: 0.0000e+00 - val_loss: 7.6676 - val_accuracy: 0.0000e+00\n",
      "Epoch 8/1000\n",
      "214/214 [==============================] - 5s 24ms/step - loss: 7.6683 - accuracy: 0.0000e+00 - val_loss: 7.6676 - val_accuracy: 0.0000e+00\n",
      "Epoch 9/1000\n",
      "214/214 [==============================] - 5s 24ms/step - loss: 7.6660 - accuracy: 0.0000e+00 - val_loss: 7.6676 - val_accuracy: 0.0000e+00\n",
      "Epoch 10/1000\n",
      "214/214 [==============================] - 5s 24ms/step - loss: 7.6671 - accuracy: 0.0000e+00 - val_loss: 7.6676 - val_accuracy: 0.0000e+00\n",
      "Epoch 11/1000\n",
      "214/214 [==============================] - 5s 24ms/step - loss: 7.6678 - accuracy: 0.0000e+00 - val_loss: 7.6676 - val_accuracy: 0.0000e+00\n",
      "Epoch 12/1000\n",
      "214/214 [==============================] - 5s 24ms/step - loss: 7.6677 - accuracy: 0.0000e+00 - val_loss: 7.6673 - val_accuracy: 0.0000e+00\n",
      "Epoch 13/1000\n",
      "214/214 [==============================] - 5s 24ms/step - loss: 7.6649 - accuracy: 0.0000e+00 - val_loss: 7.6674 - val_accuracy: 0.0000e+00\n",
      "Epoch 14/1000\n",
      "214/214 [==============================] - 5s 24ms/step - loss: 7.6661 - accuracy: 0.0000e+00 - val_loss: 7.6675 - val_accuracy: 0.0000e+00\n",
      "Epoch 15/1000\n",
      "214/214 [==============================] - 5s 24ms/step - loss: 7.6671 - accuracy: 0.0000e+00 - val_loss: 7.6676 - val_accuracy: 0.0000e+00\n",
      "Epoch 16/1000\n",
      "214/214 [==============================] - 5s 24ms/step - loss: 7.6664 - accuracy: 0.0000e+00 - val_loss: 7.6675 - val_accuracy: 0.0000e+00\n",
      "Epoch 17/1000\n",
      "214/214 [==============================] - 5s 24ms/step - loss: 7.6659 - accuracy: 0.0000e+00 - val_loss: 7.6675 - val_accuracy: 0.0000e+00\n",
      "Epoch 18/1000\n",
      "214/214 [==============================] - 5s 24ms/step - loss: 7.6673 - accuracy: 0.0000e+00 - val_loss: 7.6677 - val_accuracy: 0.0000e+00\n",
      "Epoch 19/1000\n",
      "214/214 [==============================] - 5s 24ms/step - loss: 7.6678 - accuracy: 0.0000e+00 - val_loss: 7.6677 - val_accuracy: 0.0000e+00\n",
      "Epoch 20/1000\n",
      "214/214 [==============================] - 5s 25ms/step - loss: 7.6683 - accuracy: 0.0000e+00 - val_loss: 7.6676 - val_accuracy: 0.0000e+00\n",
      "Epoch 21/1000\n",
      "214/214 [==============================] - 5s 24ms/step - loss: 7.6658 - accuracy: 0.0000e+00 - val_loss: 7.6675 - val_accuracy: 0.0000e+00\n",
      "Epoch 22/1000\n",
      "214/214 [==============================] - 5s 24ms/step - loss: 7.6679 - accuracy: 0.0000e+00 - val_loss: 7.6674 - val_accuracy: 0.0000e+00\n",
      "Epoch 23/1000\n",
      "214/214 [==============================] - 5s 24ms/step - loss: 7.6656 - accuracy: 0.0000e+00 - val_loss: 7.6672 - val_accuracy: 0.0000e+00\n",
      "Epoch 24/1000\n",
      "214/214 [==============================] - 5s 24ms/step - loss: 7.6667 - accuracy: 0.0000e+00 - val_loss: 7.6672 - val_accuracy: 0.0000e+00\n",
      "Epoch 25/1000\n",
      "214/214 [==============================] - 5s 24ms/step - loss: 7.6682 - accuracy: 0.0000e+00 - val_loss: 7.6672 - val_accuracy: 0.0000e+00\n",
      "Epoch 26/1000\n",
      "214/214 [==============================] - 5s 25ms/step - loss: 7.6653 - accuracy: 0.0000e+00 - val_loss: 7.6673 - val_accuracy: 0.0000e+00\n",
      "Epoch 27/1000\n",
      "214/214 [==============================] - 5s 24ms/step - loss: 7.6641 - accuracy: 0.0000e+00 - val_loss: 7.6674 - val_accuracy: 0.0000e+00\n",
      "Epoch 28/1000\n",
      "214/214 [==============================] - 5s 24ms/step - loss: 7.6647 - accuracy: 0.0000e+00 - val_loss: 7.6674 - val_accuracy: 0.0000e+00\n",
      "Epoch 29/1000\n",
      "214/214 [==============================] - 5s 24ms/step - loss: 7.6686 - accuracy: 0.0000e+00 - val_loss: 7.6676 - val_accuracy: 0.0000e+00\n",
      "Epoch 30/1000\n",
      "214/214 [==============================] - 5s 24ms/step - loss: 7.6673 - accuracy: 0.0000e+00 - val_loss: 7.6674 - val_accuracy: 0.0000e+00\n",
      "Epoch 31/1000\n",
      "214/214 [==============================] - 5s 24ms/step - loss: 7.6674 - accuracy: 0.0000e+00 - val_loss: 7.6675 - val_accuracy: 0.0000e+00\n",
      "Epoch 32/1000\n",
      "214/214 [==============================] - 5s 25ms/step - loss: 7.6666 - accuracy: 0.0000e+00 - val_loss: 7.6674 - val_accuracy: 0.0000e+00\n",
      "Epoch 33/1000\n",
      "214/214 [==============================] - 5s 24ms/step - loss: 7.6697 - accuracy: 0.0000e+00 - val_loss: 7.6674 - val_accuracy: 0.0000e+00\n",
      "Epoch 34/1000\n",
      "214/214 [==============================] - 5s 24ms/step - loss: 7.6675 - accuracy: 0.0000e+00 - val_loss: 7.6673 - val_accuracy: 0.0000e+00\n",
      "Epoch 35/1000\n",
      "214/214 [==============================] - 5s 24ms/step - loss: 7.6672 - accuracy: 0.0000e+00 - val_loss: 7.6673 - val_accuracy: 0.0000e+00\n",
      "Epoch 36/1000\n",
      "214/214 [==============================] - 5s 24ms/step - loss: 7.6690 - accuracy: 0.0000e+00 - val_loss: 7.6674 - val_accuracy: 0.0000e+00\n",
      "Epoch 37/1000\n",
      "214/214 [==============================] - 5s 24ms/step - loss: 7.6654 - accuracy: 0.0000e+00 - val_loss: 7.6674 - val_accuracy: 0.0000e+00\n",
      "Epoch 38/1000\n",
      "214/214 [==============================] - 5s 24ms/step - loss: 7.6658 - accuracy: 0.0000e+00 - val_loss: 7.6674 - val_accuracy: 0.0000e+00\n",
      "Epoch 39/1000\n",
      "214/214 [==============================] - 5s 25ms/step - loss: 7.6650 - accuracy: 0.0000e+00 - val_loss: 7.6674 - val_accuracy: 0.0000e+00\n",
      "Epoch 40/1000\n",
      "214/214 [==============================] - 5s 24ms/step - loss: 7.6673 - accuracy: 0.0000e+00 - val_loss: 7.6676 - val_accuracy: 0.0000e+00\n",
      "Epoch 41/1000\n",
      "214/214 [==============================] - 5s 24ms/step - loss: 7.6679 - accuracy: 0.0000e+00 - val_loss: 7.6674 - val_accuracy: 0.0000e+00\n",
      "Epoch 42/1000\n",
      "214/214 [==============================] - 5s 24ms/step - loss: 7.6664 - accuracy: 0.0000e+00 - val_loss: 7.6676 - val_accuracy: 0.0000e+00\n",
      "Epoch 43/1000\n",
      "214/214 [==============================] - 5s 24ms/step - loss: 7.6671 - accuracy: 0.0000e+00 - val_loss: 7.6674 - val_accuracy: 0.0000e+00\n",
      "Epoch 44/1000\n",
      "214/214 [==============================] - 5s 24ms/step - loss: 7.6654 - accuracy: 0.0000e+00 - val_loss: 7.6675 - val_accuracy: 0.0000e+00\n",
      "Epoch 45/1000\n",
      "214/214 [==============================] - 5s 25ms/step - loss: 7.6664 - accuracy: 0.0000e+00 - val_loss: 7.6675 - val_accuracy: 0.0000e+00\n",
      "Epoch 46/1000\n",
      "214/214 [==============================] - 5s 24ms/step - loss: 7.6681 - accuracy: 0.0000e+00 - val_loss: 7.6675 - val_accuracy: 0.0000e+00\n",
      "Epoch 47/1000\n",
      "214/214 [==============================] - 5s 25ms/step - loss: 7.6662 - accuracy: 0.0000e+00 - val_loss: 7.6673 - val_accuracy: 0.0000e+00\n",
      "Epoch 48/1000\n",
      "214/214 [==============================] - 5s 24ms/step - loss: 7.6673 - accuracy: 0.0000e+00 - val_loss: 7.6672 - val_accuracy: 0.0000e+00\n",
      "Epoch 49/1000\n",
      "214/214 [==============================] - 5s 24ms/step - loss: 7.6670 - accuracy: 0.0000e+00 - val_loss: 7.6673 - val_accuracy: 0.0000e+00\n",
      "Epoch 50/1000\n",
      "214/214 [==============================] - 5s 24ms/step - loss: 7.6664 - accuracy: 0.0000e+00 - val_loss: 7.6673 - val_accuracy: 0.0000e+00\n",
      "Epoch 51/1000\n",
      "214/214 [==============================] - 5s 24ms/step - loss: 7.6645 - accuracy: 0.0000e+00 - val_loss: 7.6673 - val_accuracy: 0.0000e+00\n",
      "Epoch 52/1000\n",
      "214/214 [==============================] - 5s 24ms/step - loss: 7.6684 - accuracy: 0.0000e+00 - val_loss: 7.6673 - val_accuracy: 0.0000e+00\n",
      "Epoch 53/1000\n",
      "214/214 [==============================] - 5s 25ms/step - loss: 7.6656 - accuracy: 0.0000e+00 - val_loss: 7.6673 - val_accuracy: 0.0000e+00\n",
      "Epoch 54/1000\n",
      "214/214 [==============================] - 5s 24ms/step - loss: 7.6685 - accuracy: 0.0000e+00 - val_loss: 7.6673 - val_accuracy: 0.0000e+00\n",
      "Epoch 55/1000\n",
      "214/214 [==============================] - 5s 24ms/step - loss: 7.6654 - accuracy: 0.0000e+00 - val_loss: 7.6673 - val_accuracy: 0.0000e+00\n",
      "Epoch 56/1000\n",
      "214/214 [==============================] - 5s 24ms/step - loss: 7.6658 - accuracy: 0.0000e+00 - val_loss: 7.6673 - val_accuracy: 0.0000e+00\n",
      "Epoch 57/1000\n",
      "214/214 [==============================] - 5s 24ms/step - loss: 7.6669 - accuracy: 0.0000e+00 - val_loss: 7.6673 - val_accuracy: 0.0000e+00\n",
      "Epoch 58/1000\n",
      "147/214 [===================>..........] - ETA: 1s - loss: 7.6675 - accuracy: 0.0000e+00"
     ]
    },
    {
     "ename": "KeyboardInterrupt",
     "evalue": "",
     "output_type": "error",
     "traceback": [
      "\u001b[0;31m---------------------------------------------------------------------------\u001b[0m",
      "\u001b[0;31mKeyboardInterrupt\u001b[0m                         Traceback (most recent call last)",
      "\u001b[0;32m<ipython-input-58-0d868edcd520>\u001b[0m in \u001b[0;36m<module>\u001b[0;34m\u001b[0m\n\u001b[0;32m----> 1\u001b[0;31m \u001b[0mhistory\u001b[0m\u001b[0;34m=\u001b[0m\u001b[0mt_model\u001b[0m\u001b[0;34m.\u001b[0m\u001b[0mfit\u001b[0m\u001b[0;34m(\u001b[0m\u001b[0mfeatures_train\u001b[0m\u001b[0;34m,\u001b[0m \u001b[0mlabels_train\u001b[0m\u001b[0;34m,\u001b[0m\u001b[0mepochs\u001b[0m\u001b[0;34m=\u001b[0m\u001b[0;36m1000\u001b[0m\u001b[0;34m,\u001b[0m\u001b[0mbatch_size\u001b[0m\u001b[0;34m=\u001b[0m\u001b[0;36m128\u001b[0m\u001b[0;34m,\u001b[0m\u001b[0mvalidation_data\u001b[0m\u001b[0;34m=\u001b[0m\u001b[0;34m(\u001b[0m\u001b[0mfeatures_test\u001b[0m\u001b[0;34m,\u001b[0m\u001b[0mlabels_test\u001b[0m\u001b[0;34m)\u001b[0m\u001b[0;34m)\u001b[0m\u001b[0;34m\u001b[0m\u001b[0;34m\u001b[0m\u001b[0m\n\u001b[0m\u001b[1;32m      2\u001b[0m \u001b[0mtest_loss\u001b[0m\u001b[0;34m,\u001b[0m \u001b[0mtest_acc\u001b[0m \u001b[0;34m=\u001b[0m \u001b[0mt_model\u001b[0m\u001b[0;34m.\u001b[0m\u001b[0mevaluate\u001b[0m\u001b[0;34m(\u001b[0m\u001b[0mfeatures_test\u001b[0m\u001b[0;34m,\u001b[0m\u001b[0mlabels_test\u001b[0m\u001b[0;34m)\u001b[0m\u001b[0;34m\u001b[0m\u001b[0;34m\u001b[0m\u001b[0m\n",
      "\u001b[0;32m/opt/conda/lib/python3.7/site-packages/tensorflow/python/keras/engine/training.py\u001b[0m in \u001b[0;36mfit\u001b[0;34m(self, x, y, batch_size, epochs, verbose, callbacks, validation_split, validation_data, shuffle, class_weight, sample_weight, initial_epoch, steps_per_epoch, validation_steps, validation_batch_size, validation_freq, max_queue_size, workers, use_multiprocessing)\u001b[0m\n\u001b[1;32m   1103\u001b[0m               \u001b[0mlogs\u001b[0m \u001b[0;34m=\u001b[0m \u001b[0mtmp_logs\u001b[0m  \u001b[0;31m# No error, now safe to assign to logs.\u001b[0m\u001b[0;34m\u001b[0m\u001b[0;34m\u001b[0m\u001b[0m\n\u001b[1;32m   1104\u001b[0m               \u001b[0mend_step\u001b[0m \u001b[0;34m=\u001b[0m \u001b[0mstep\u001b[0m \u001b[0;34m+\u001b[0m \u001b[0mdata_handler\u001b[0m\u001b[0;34m.\u001b[0m\u001b[0mstep_increment\u001b[0m\u001b[0;34m\u001b[0m\u001b[0;34m\u001b[0m\u001b[0m\n\u001b[0;32m-> 1105\u001b[0;31m               \u001b[0mcallbacks\u001b[0m\u001b[0;34m.\u001b[0m\u001b[0mon_train_batch_end\u001b[0m\u001b[0;34m(\u001b[0m\u001b[0mend_step\u001b[0m\u001b[0;34m,\u001b[0m \u001b[0mlogs\u001b[0m\u001b[0;34m)\u001b[0m\u001b[0;34m\u001b[0m\u001b[0;34m\u001b[0m\u001b[0m\n\u001b[0m\u001b[1;32m   1106\u001b[0m               \u001b[0;32mif\u001b[0m \u001b[0mself\u001b[0m\u001b[0;34m.\u001b[0m\u001b[0mstop_training\u001b[0m\u001b[0;34m:\u001b[0m\u001b[0;34m\u001b[0m\u001b[0;34m\u001b[0m\u001b[0m\n\u001b[1;32m   1107\u001b[0m                 \u001b[0;32mbreak\u001b[0m\u001b[0;34m\u001b[0m\u001b[0;34m\u001b[0m\u001b[0m\n",
      "\u001b[0;32m/opt/conda/lib/python3.7/site-packages/tensorflow/python/keras/callbacks.py\u001b[0m in \u001b[0;36mon_train_batch_end\u001b[0;34m(self, batch, logs)\u001b[0m\n\u001b[1;32m    452\u001b[0m     \"\"\"\n\u001b[1;32m    453\u001b[0m     \u001b[0;32mif\u001b[0m \u001b[0mself\u001b[0m\u001b[0;34m.\u001b[0m\u001b[0m_should_call_train_batch_hooks\u001b[0m\u001b[0;34m:\u001b[0m\u001b[0;34m\u001b[0m\u001b[0;34m\u001b[0m\u001b[0m\n\u001b[0;32m--> 454\u001b[0;31m       \u001b[0mself\u001b[0m\u001b[0;34m.\u001b[0m\u001b[0m_call_batch_hook\u001b[0m\u001b[0;34m(\u001b[0m\u001b[0mModeKeys\u001b[0m\u001b[0;34m.\u001b[0m\u001b[0mTRAIN\u001b[0m\u001b[0;34m,\u001b[0m \u001b[0;34m'end'\u001b[0m\u001b[0;34m,\u001b[0m \u001b[0mbatch\u001b[0m\u001b[0;34m,\u001b[0m \u001b[0mlogs\u001b[0m\u001b[0;34m=\u001b[0m\u001b[0mlogs\u001b[0m\u001b[0;34m)\u001b[0m\u001b[0;34m\u001b[0m\u001b[0;34m\u001b[0m\u001b[0m\n\u001b[0m\u001b[1;32m    455\u001b[0m \u001b[0;34m\u001b[0m\u001b[0m\n\u001b[1;32m    456\u001b[0m   \u001b[0;32mdef\u001b[0m \u001b[0mon_test_batch_begin\u001b[0m\u001b[0;34m(\u001b[0m\u001b[0mself\u001b[0m\u001b[0;34m,\u001b[0m \u001b[0mbatch\u001b[0m\u001b[0;34m,\u001b[0m \u001b[0mlogs\u001b[0m\u001b[0;34m=\u001b[0m\u001b[0;32mNone\u001b[0m\u001b[0;34m)\u001b[0m\u001b[0;34m:\u001b[0m\u001b[0;34m\u001b[0m\u001b[0;34m\u001b[0m\u001b[0m\n",
      "\u001b[0;32m/opt/conda/lib/python3.7/site-packages/tensorflow/python/keras/callbacks.py\u001b[0m in \u001b[0;36m_call_batch_hook\u001b[0;34m(self, mode, hook, batch, logs)\u001b[0m\n\u001b[1;32m    294\u001b[0m       \u001b[0mself\u001b[0m\u001b[0;34m.\u001b[0m\u001b[0m_call_batch_begin_hook\u001b[0m\u001b[0;34m(\u001b[0m\u001b[0mmode\u001b[0m\u001b[0;34m,\u001b[0m \u001b[0mbatch\u001b[0m\u001b[0;34m,\u001b[0m \u001b[0mlogs\u001b[0m\u001b[0;34m)\u001b[0m\u001b[0;34m\u001b[0m\u001b[0;34m\u001b[0m\u001b[0m\n\u001b[1;32m    295\u001b[0m     \u001b[0;32melif\u001b[0m \u001b[0mhook\u001b[0m \u001b[0;34m==\u001b[0m \u001b[0;34m'end'\u001b[0m\u001b[0;34m:\u001b[0m\u001b[0;34m\u001b[0m\u001b[0;34m\u001b[0m\u001b[0m\n\u001b[0;32m--> 296\u001b[0;31m       \u001b[0mself\u001b[0m\u001b[0;34m.\u001b[0m\u001b[0m_call_batch_end_hook\u001b[0m\u001b[0;34m(\u001b[0m\u001b[0mmode\u001b[0m\u001b[0;34m,\u001b[0m \u001b[0mbatch\u001b[0m\u001b[0;34m,\u001b[0m \u001b[0mlogs\u001b[0m\u001b[0;34m)\u001b[0m\u001b[0;34m\u001b[0m\u001b[0;34m\u001b[0m\u001b[0m\n\u001b[0m\u001b[1;32m    297\u001b[0m     \u001b[0;32melse\u001b[0m\u001b[0;34m:\u001b[0m\u001b[0;34m\u001b[0m\u001b[0;34m\u001b[0m\u001b[0m\n\u001b[1;32m    298\u001b[0m       \u001b[0;32mraise\u001b[0m \u001b[0mValueError\u001b[0m\u001b[0;34m(\u001b[0m\u001b[0;34m'Unrecognized hook: {}'\u001b[0m\u001b[0;34m.\u001b[0m\u001b[0mformat\u001b[0m\u001b[0;34m(\u001b[0m\u001b[0mhook\u001b[0m\u001b[0;34m)\u001b[0m\u001b[0;34m)\u001b[0m\u001b[0;34m\u001b[0m\u001b[0;34m\u001b[0m\u001b[0m\n",
      "\u001b[0;32m/opt/conda/lib/python3.7/site-packages/tensorflow/python/keras/callbacks.py\u001b[0m in \u001b[0;36m_call_batch_end_hook\u001b[0;34m(self, mode, batch, logs)\u001b[0m\n\u001b[1;32m    314\u001b[0m       \u001b[0mself\u001b[0m\u001b[0;34m.\u001b[0m\u001b[0m_batch_times\u001b[0m\u001b[0;34m.\u001b[0m\u001b[0mappend\u001b[0m\u001b[0;34m(\u001b[0m\u001b[0mbatch_time\u001b[0m\u001b[0;34m)\u001b[0m\u001b[0;34m\u001b[0m\u001b[0;34m\u001b[0m\u001b[0m\n\u001b[1;32m    315\u001b[0m \u001b[0;34m\u001b[0m\u001b[0m\n\u001b[0;32m--> 316\u001b[0;31m     \u001b[0mself\u001b[0m\u001b[0;34m.\u001b[0m\u001b[0m_call_batch_hook_helper\u001b[0m\u001b[0;34m(\u001b[0m\u001b[0mhook_name\u001b[0m\u001b[0;34m,\u001b[0m \u001b[0mbatch\u001b[0m\u001b[0;34m,\u001b[0m \u001b[0mlogs\u001b[0m\u001b[0;34m)\u001b[0m\u001b[0;34m\u001b[0m\u001b[0;34m\u001b[0m\u001b[0m\n\u001b[0m\u001b[1;32m    317\u001b[0m \u001b[0;34m\u001b[0m\u001b[0m\n\u001b[1;32m    318\u001b[0m     \u001b[0;32mif\u001b[0m \u001b[0mlen\u001b[0m\u001b[0;34m(\u001b[0m\u001b[0mself\u001b[0m\u001b[0;34m.\u001b[0m\u001b[0m_batch_times\u001b[0m\u001b[0;34m)\u001b[0m \u001b[0;34m>=\u001b[0m \u001b[0mself\u001b[0m\u001b[0;34m.\u001b[0m\u001b[0m_num_batches_for_timing_check\u001b[0m\u001b[0;34m:\u001b[0m\u001b[0;34m\u001b[0m\u001b[0;34m\u001b[0m\u001b[0m\n",
      "\u001b[0;32m/opt/conda/lib/python3.7/site-packages/tensorflow/python/keras/callbacks.py\u001b[0m in \u001b[0;36m_call_batch_hook_helper\u001b[0;34m(self, hook_name, batch, logs)\u001b[0m\n\u001b[1;32m    354\u001b[0m       \u001b[0mhook\u001b[0m \u001b[0;34m=\u001b[0m \u001b[0mgetattr\u001b[0m\u001b[0;34m(\u001b[0m\u001b[0mcallback\u001b[0m\u001b[0;34m,\u001b[0m \u001b[0mhook_name\u001b[0m\u001b[0;34m)\u001b[0m\u001b[0;34m\u001b[0m\u001b[0;34m\u001b[0m\u001b[0m\n\u001b[1;32m    355\u001b[0m       \u001b[0;32mif\u001b[0m \u001b[0mgetattr\u001b[0m\u001b[0;34m(\u001b[0m\u001b[0mcallback\u001b[0m\u001b[0;34m,\u001b[0m \u001b[0;34m'_supports_tf_logs'\u001b[0m\u001b[0;34m,\u001b[0m \u001b[0;32mFalse\u001b[0m\u001b[0;34m)\u001b[0m\u001b[0;34m:\u001b[0m\u001b[0;34m\u001b[0m\u001b[0;34m\u001b[0m\u001b[0m\n\u001b[0;32m--> 356\u001b[0;31m         \u001b[0mhook\u001b[0m\u001b[0;34m(\u001b[0m\u001b[0mbatch\u001b[0m\u001b[0;34m,\u001b[0m \u001b[0mlogs\u001b[0m\u001b[0;34m)\u001b[0m\u001b[0;34m\u001b[0m\u001b[0;34m\u001b[0m\u001b[0m\n\u001b[0m\u001b[1;32m    357\u001b[0m       \u001b[0;32melse\u001b[0m\u001b[0;34m:\u001b[0m\u001b[0;34m\u001b[0m\u001b[0;34m\u001b[0m\u001b[0m\n\u001b[1;32m    358\u001b[0m         \u001b[0;32mif\u001b[0m \u001b[0mnumpy_logs\u001b[0m \u001b[0;32mis\u001b[0m \u001b[0;32mNone\u001b[0m\u001b[0;34m:\u001b[0m  \u001b[0;31m# Only convert once.\u001b[0m\u001b[0;34m\u001b[0m\u001b[0;34m\u001b[0m\u001b[0m\n",
      "\u001b[0;32m/opt/conda/lib/python3.7/site-packages/tensorflow/python/keras/callbacks.py\u001b[0m in \u001b[0;36mon_train_batch_end\u001b[0;34m(self, batch, logs)\u001b[0m\n\u001b[1;32m   1018\u001b[0m \u001b[0;34m\u001b[0m\u001b[0m\n\u001b[1;32m   1019\u001b[0m   \u001b[0;32mdef\u001b[0m \u001b[0mon_train_batch_end\u001b[0m\u001b[0;34m(\u001b[0m\u001b[0mself\u001b[0m\u001b[0;34m,\u001b[0m \u001b[0mbatch\u001b[0m\u001b[0;34m,\u001b[0m \u001b[0mlogs\u001b[0m\u001b[0;34m=\u001b[0m\u001b[0;32mNone\u001b[0m\u001b[0;34m)\u001b[0m\u001b[0;34m:\u001b[0m\u001b[0;34m\u001b[0m\u001b[0;34m\u001b[0m\u001b[0m\n\u001b[0;32m-> 1020\u001b[0;31m     \u001b[0mself\u001b[0m\u001b[0;34m.\u001b[0m\u001b[0m_batch_update_progbar\u001b[0m\u001b[0;34m(\u001b[0m\u001b[0mbatch\u001b[0m\u001b[0;34m,\u001b[0m \u001b[0mlogs\u001b[0m\u001b[0;34m)\u001b[0m\u001b[0;34m\u001b[0m\u001b[0;34m\u001b[0m\u001b[0m\n\u001b[0m\u001b[1;32m   1021\u001b[0m \u001b[0;34m\u001b[0m\u001b[0m\n\u001b[1;32m   1022\u001b[0m   \u001b[0;32mdef\u001b[0m \u001b[0mon_test_batch_end\u001b[0m\u001b[0;34m(\u001b[0m\u001b[0mself\u001b[0m\u001b[0;34m,\u001b[0m \u001b[0mbatch\u001b[0m\u001b[0;34m,\u001b[0m \u001b[0mlogs\u001b[0m\u001b[0;34m=\u001b[0m\u001b[0;32mNone\u001b[0m\u001b[0;34m)\u001b[0m\u001b[0;34m:\u001b[0m\u001b[0;34m\u001b[0m\u001b[0;34m\u001b[0m\u001b[0m\n",
      "\u001b[0;32m/opt/conda/lib/python3.7/site-packages/tensorflow/python/keras/callbacks.py\u001b[0m in \u001b[0;36m_batch_update_progbar\u001b[0;34m(self, batch, logs)\u001b[0m\n\u001b[1;32m   1082\u001b[0m     \u001b[0;32mif\u001b[0m \u001b[0mself\u001b[0m\u001b[0;34m.\u001b[0m\u001b[0mverbose\u001b[0m \u001b[0;34m==\u001b[0m \u001b[0;36m1\u001b[0m\u001b[0;34m:\u001b[0m\u001b[0;34m\u001b[0m\u001b[0;34m\u001b[0m\u001b[0m\n\u001b[1;32m   1083\u001b[0m       \u001b[0;31m# Only block async when verbose = 1.\u001b[0m\u001b[0;34m\u001b[0m\u001b[0;34m\u001b[0m\u001b[0;34m\u001b[0m\u001b[0m\n\u001b[0;32m-> 1084\u001b[0;31m       \u001b[0mlogs\u001b[0m \u001b[0;34m=\u001b[0m \u001b[0mtf_utils\u001b[0m\u001b[0;34m.\u001b[0m\u001b[0mto_numpy_or_python_type\u001b[0m\u001b[0;34m(\u001b[0m\u001b[0mlogs\u001b[0m\u001b[0;34m)\u001b[0m\u001b[0;34m\u001b[0m\u001b[0;34m\u001b[0m\u001b[0m\n\u001b[0m\u001b[1;32m   1085\u001b[0m       \u001b[0mself\u001b[0m\u001b[0;34m.\u001b[0m\u001b[0mprogbar\u001b[0m\u001b[0;34m.\u001b[0m\u001b[0mupdate\u001b[0m\u001b[0;34m(\u001b[0m\u001b[0mself\u001b[0m\u001b[0;34m.\u001b[0m\u001b[0mseen\u001b[0m\u001b[0;34m,\u001b[0m \u001b[0mlist\u001b[0m\u001b[0;34m(\u001b[0m\u001b[0mlogs\u001b[0m\u001b[0;34m.\u001b[0m\u001b[0mitems\u001b[0m\u001b[0;34m(\u001b[0m\u001b[0;34m)\u001b[0m\u001b[0;34m)\u001b[0m\u001b[0;34m,\u001b[0m \u001b[0mfinalize\u001b[0m\u001b[0;34m=\u001b[0m\u001b[0;32mFalse\u001b[0m\u001b[0;34m)\u001b[0m\u001b[0;34m\u001b[0m\u001b[0;34m\u001b[0m\u001b[0m\n\u001b[1;32m   1086\u001b[0m \u001b[0;34m\u001b[0m\u001b[0m\n",
      "\u001b[0;32m/opt/conda/lib/python3.7/site-packages/tensorflow/python/keras/utils/tf_utils.py\u001b[0m in \u001b[0;36mto_numpy_or_python_type\u001b[0;34m(tensors)\u001b[0m\n\u001b[1;32m    512\u001b[0m     \u001b[0;32mreturn\u001b[0m \u001b[0mt\u001b[0m  \u001b[0;31m# Don't turn ragged or sparse tensors to NumPy.\u001b[0m\u001b[0;34m\u001b[0m\u001b[0;34m\u001b[0m\u001b[0m\n\u001b[1;32m    513\u001b[0m \u001b[0;34m\u001b[0m\u001b[0m\n\u001b[0;32m--> 514\u001b[0;31m   \u001b[0;32mreturn\u001b[0m \u001b[0mnest\u001b[0m\u001b[0;34m.\u001b[0m\u001b[0mmap_structure\u001b[0m\u001b[0;34m(\u001b[0m\u001b[0m_to_single_numpy_or_python_type\u001b[0m\u001b[0;34m,\u001b[0m \u001b[0mtensors\u001b[0m\u001b[0;34m)\u001b[0m\u001b[0;34m\u001b[0m\u001b[0;34m\u001b[0m\u001b[0m\n\u001b[0m\u001b[1;32m    515\u001b[0m \u001b[0;34m\u001b[0m\u001b[0m\n\u001b[1;32m    516\u001b[0m \u001b[0;34m\u001b[0m\u001b[0m\n",
      "\u001b[0;32m/opt/conda/lib/python3.7/site-packages/tensorflow/python/util/nest.py\u001b[0m in \u001b[0;36mmap_structure\u001b[0;34m(func, *structure, **kwargs)\u001b[0m\n\u001b[1;32m    657\u001b[0m \u001b[0;34m\u001b[0m\u001b[0m\n\u001b[1;32m    658\u001b[0m   return pack_sequence_as(\n\u001b[0;32m--> 659\u001b[0;31m       \u001b[0mstructure\u001b[0m\u001b[0;34m[\u001b[0m\u001b[0;36m0\u001b[0m\u001b[0;34m]\u001b[0m\u001b[0;34m,\u001b[0m \u001b[0;34m[\u001b[0m\u001b[0mfunc\u001b[0m\u001b[0;34m(\u001b[0m\u001b[0;34m*\u001b[0m\u001b[0mx\u001b[0m\u001b[0;34m)\u001b[0m \u001b[0;32mfor\u001b[0m \u001b[0mx\u001b[0m \u001b[0;32min\u001b[0m \u001b[0mentries\u001b[0m\u001b[0;34m]\u001b[0m\u001b[0;34m,\u001b[0m\u001b[0;34m\u001b[0m\u001b[0;34m\u001b[0m\u001b[0m\n\u001b[0m\u001b[1;32m    660\u001b[0m       expand_composites=expand_composites)\n\u001b[1;32m    661\u001b[0m \u001b[0;34m\u001b[0m\u001b[0m\n",
      "\u001b[0;32m/opt/conda/lib/python3.7/site-packages/tensorflow/python/util/nest.py\u001b[0m in \u001b[0;36m<listcomp>\u001b[0;34m(.0)\u001b[0m\n\u001b[1;32m    657\u001b[0m \u001b[0;34m\u001b[0m\u001b[0m\n\u001b[1;32m    658\u001b[0m   return pack_sequence_as(\n\u001b[0;32m--> 659\u001b[0;31m       \u001b[0mstructure\u001b[0m\u001b[0;34m[\u001b[0m\u001b[0;36m0\u001b[0m\u001b[0;34m]\u001b[0m\u001b[0;34m,\u001b[0m \u001b[0;34m[\u001b[0m\u001b[0mfunc\u001b[0m\u001b[0;34m(\u001b[0m\u001b[0;34m*\u001b[0m\u001b[0mx\u001b[0m\u001b[0;34m)\u001b[0m \u001b[0;32mfor\u001b[0m \u001b[0mx\u001b[0m \u001b[0;32min\u001b[0m \u001b[0mentries\u001b[0m\u001b[0;34m]\u001b[0m\u001b[0;34m,\u001b[0m\u001b[0;34m\u001b[0m\u001b[0;34m\u001b[0m\u001b[0m\n\u001b[0m\u001b[1;32m    660\u001b[0m       expand_composites=expand_composites)\n\u001b[1;32m    661\u001b[0m \u001b[0;34m\u001b[0m\u001b[0m\n",
      "\u001b[0;32m/opt/conda/lib/python3.7/site-packages/tensorflow/python/keras/utils/tf_utils.py\u001b[0m in \u001b[0;36m_to_single_numpy_or_python_type\u001b[0;34m(t)\u001b[0m\n\u001b[1;32m    508\u001b[0m   \u001b[0;32mdef\u001b[0m \u001b[0m_to_single_numpy_or_python_type\u001b[0m\u001b[0;34m(\u001b[0m\u001b[0mt\u001b[0m\u001b[0;34m)\u001b[0m\u001b[0;34m:\u001b[0m\u001b[0;34m\u001b[0m\u001b[0;34m\u001b[0m\u001b[0m\n\u001b[1;32m    509\u001b[0m     \u001b[0;32mif\u001b[0m \u001b[0misinstance\u001b[0m\u001b[0;34m(\u001b[0m\u001b[0mt\u001b[0m\u001b[0;34m,\u001b[0m \u001b[0mops\u001b[0m\u001b[0;34m.\u001b[0m\u001b[0mTensor\u001b[0m\u001b[0;34m)\u001b[0m\u001b[0;34m:\u001b[0m\u001b[0;34m\u001b[0m\u001b[0;34m\u001b[0m\u001b[0m\n\u001b[0;32m--> 510\u001b[0;31m       \u001b[0mx\u001b[0m \u001b[0;34m=\u001b[0m \u001b[0mt\u001b[0m\u001b[0;34m.\u001b[0m\u001b[0mnumpy\u001b[0m\u001b[0;34m(\u001b[0m\u001b[0;34m)\u001b[0m\u001b[0;34m\u001b[0m\u001b[0;34m\u001b[0m\u001b[0m\n\u001b[0m\u001b[1;32m    511\u001b[0m       \u001b[0;32mreturn\u001b[0m \u001b[0mx\u001b[0m\u001b[0;34m.\u001b[0m\u001b[0mitem\u001b[0m\u001b[0;34m(\u001b[0m\u001b[0;34m)\u001b[0m \u001b[0;32mif\u001b[0m \u001b[0mnp\u001b[0m\u001b[0;34m.\u001b[0m\u001b[0mndim\u001b[0m\u001b[0;34m(\u001b[0m\u001b[0mx\u001b[0m\u001b[0;34m)\u001b[0m \u001b[0;34m==\u001b[0m \u001b[0;36m0\u001b[0m \u001b[0;32melse\u001b[0m \u001b[0mx\u001b[0m\u001b[0;34m\u001b[0m\u001b[0;34m\u001b[0m\u001b[0m\n\u001b[1;32m    512\u001b[0m     \u001b[0;32mreturn\u001b[0m \u001b[0mt\u001b[0m  \u001b[0;31m# Don't turn ragged or sparse tensors to NumPy.\u001b[0m\u001b[0;34m\u001b[0m\u001b[0;34m\u001b[0m\u001b[0m\n",
      "\u001b[0;32m/opt/conda/lib/python3.7/site-packages/tensorflow/python/framework/ops.py\u001b[0m in \u001b[0;36mnumpy\u001b[0;34m(self)\u001b[0m\n\u001b[1;32m   1069\u001b[0m     \"\"\"\n\u001b[1;32m   1070\u001b[0m     \u001b[0;31m# TODO(slebedev): Consider avoiding a copy for non-CPU or remote tensors.\u001b[0m\u001b[0;34m\u001b[0m\u001b[0;34m\u001b[0m\u001b[0;34m\u001b[0m\u001b[0m\n\u001b[0;32m-> 1071\u001b[0;31m     \u001b[0mmaybe_arr\u001b[0m \u001b[0;34m=\u001b[0m \u001b[0mself\u001b[0m\u001b[0;34m.\u001b[0m\u001b[0m_numpy\u001b[0m\u001b[0;34m(\u001b[0m\u001b[0;34m)\u001b[0m  \u001b[0;31m# pylint: disable=protected-access\u001b[0m\u001b[0;34m\u001b[0m\u001b[0;34m\u001b[0m\u001b[0m\n\u001b[0m\u001b[1;32m   1072\u001b[0m     \u001b[0;32mreturn\u001b[0m \u001b[0mmaybe_arr\u001b[0m\u001b[0;34m.\u001b[0m\u001b[0mcopy\u001b[0m\u001b[0;34m(\u001b[0m\u001b[0;34m)\u001b[0m \u001b[0;32mif\u001b[0m \u001b[0misinstance\u001b[0m\u001b[0;34m(\u001b[0m\u001b[0mmaybe_arr\u001b[0m\u001b[0;34m,\u001b[0m \u001b[0mnp\u001b[0m\u001b[0;34m.\u001b[0m\u001b[0mndarray\u001b[0m\u001b[0;34m)\u001b[0m \u001b[0;32melse\u001b[0m \u001b[0mmaybe_arr\u001b[0m\u001b[0;34m\u001b[0m\u001b[0;34m\u001b[0m\u001b[0m\n\u001b[1;32m   1073\u001b[0m \u001b[0;34m\u001b[0m\u001b[0m\n",
      "\u001b[0;32m/opt/conda/lib/python3.7/site-packages/tensorflow/python/framework/ops.py\u001b[0m in \u001b[0;36m_numpy\u001b[0;34m(self)\u001b[0m\n\u001b[1;32m   1035\u001b[0m   \u001b[0;32mdef\u001b[0m \u001b[0m_numpy\u001b[0m\u001b[0;34m(\u001b[0m\u001b[0mself\u001b[0m\u001b[0;34m)\u001b[0m\u001b[0;34m:\u001b[0m\u001b[0;34m\u001b[0m\u001b[0;34m\u001b[0m\u001b[0m\n\u001b[1;32m   1036\u001b[0m     \u001b[0;32mtry\u001b[0m\u001b[0;34m:\u001b[0m\u001b[0;34m\u001b[0m\u001b[0;34m\u001b[0m\u001b[0m\n\u001b[0;32m-> 1037\u001b[0;31m       \u001b[0;32mreturn\u001b[0m \u001b[0mself\u001b[0m\u001b[0;34m.\u001b[0m\u001b[0m_numpy_internal\u001b[0m\u001b[0;34m(\u001b[0m\u001b[0;34m)\u001b[0m\u001b[0;34m\u001b[0m\u001b[0;34m\u001b[0m\u001b[0m\n\u001b[0m\u001b[1;32m   1038\u001b[0m     \u001b[0;32mexcept\u001b[0m \u001b[0mcore\u001b[0m\u001b[0;34m.\u001b[0m\u001b[0m_NotOkStatusException\u001b[0m \u001b[0;32mas\u001b[0m \u001b[0me\u001b[0m\u001b[0;34m:\u001b[0m  \u001b[0;31m# pylint: disable=protected-access\u001b[0m\u001b[0;34m\u001b[0m\u001b[0;34m\u001b[0m\u001b[0m\n\u001b[1;32m   1039\u001b[0m       \u001b[0msix\u001b[0m\u001b[0;34m.\u001b[0m\u001b[0mraise_from\u001b[0m\u001b[0;34m(\u001b[0m\u001b[0mcore\u001b[0m\u001b[0;34m.\u001b[0m\u001b[0m_status_to_exception\u001b[0m\u001b[0;34m(\u001b[0m\u001b[0me\u001b[0m\u001b[0;34m.\u001b[0m\u001b[0mcode\u001b[0m\u001b[0;34m,\u001b[0m \u001b[0me\u001b[0m\u001b[0;34m.\u001b[0m\u001b[0mmessage\u001b[0m\u001b[0;34m)\u001b[0m\u001b[0;34m,\u001b[0m \u001b[0;32mNone\u001b[0m\u001b[0;34m)\u001b[0m  \u001b[0;31m# pylint: disable=protected-access\u001b[0m\u001b[0;34m\u001b[0m\u001b[0;34m\u001b[0m\u001b[0m\n",
      "\u001b[0;31mKeyboardInterrupt\u001b[0m: "
     ]
    }
   ],
   "source": [
    "history=t_model.fit(features_train, labels_train,epochs=1000,batch_size=128,validation_data=(features_test,labels_test))\n",
    "test_loss, test_acc = t_model.evaluate(features_test,labels_test)"
   ]
  },
  {
   "cell_type": "code",
   "execution_count": null,
   "metadata": {},
   "outputs": [],
   "source": [
    "from sklearn.neural_network import MLPRegressor\n",
    "fear = MLPRegressor(random_state=1, max_iter=100).fit(features_train, labels_train)\n",
    "fear.score(features_test, labels_test)"
   ]
  },
  {
   "cell_type": "code",
   "execution_count": null,
   "metadata": {
    "execution": {
     "iopub.execute_input": "2021-05-20T15:00:04.307955Z",
     "iopub.status.busy": "2021-05-20T15:00:04.307641Z"
    }
   },
   "outputs": [],
   "source": [
    "degree = 5\n",
    "polyreg = make_pipeline(PolynomialFeatures(degree),LinearRegression())\n",
    "polyreg.fit(features_train,labels_train)"
   ]
  },
  {
   "cell_type": "code",
   "execution_count": null,
   "metadata": {},
   "outputs": [],
   "source": [
    "import matplotlib.pyplot as plt\n",
    "plt.figure()\n",
    "plt.scatter(features_train,labels_train)\n",
    "plt.plot(features_test,polyreg.predict(features_test),color=\"black\")\n",
    "plt.title(\"Polynomial regression with degree \"+str(degree))\n",
    "plt.show()"
   ]
  },
  {
   "cell_type": "markdown",
   "metadata": {},
   "source": []
  },
  {
   "cell_type": "code",
   "execution_count": null,
   "metadata": {},
   "outputs": [],
   "source": [
    "# convert pitch outcomes to numbers so they can be plotted\n",
    "# higher number = better outcome\n",
    "# outcomes = {'S': 1, 'C': 1, 'W': 1, 'T': 0.75, 'F': 0.5, 'X': 0.25, 'D': 0, 'E': 0 }\n",
    "# df['code_num'] = df['code'].map(outcomes)\n",
    "# df = df.drop(['code'], axis = 1) \n",
    "sns.displot(df.code_num)"
   ]
  }
 ],
 "metadata": {
  "kernelspec": {
   "display_name": "Python 3",
   "language": "python",
   "name": "python3"
  },
  "language_info": {
   "codemirror_mode": {
    "name": "ipython",
    "version": 3
   },
   "file_extension": ".py",
   "mimetype": "text/x-python",
   "name": "python",
   "nbconvert_exporter": "python",
   "pygments_lexer": "ipython3",
   "version": "3.7.9"
  }
 },
 "nbformat": 4,
 "nbformat_minor": 4
}
