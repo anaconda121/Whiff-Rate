{
 "cells": [
  {
   "cell_type": "code",
   "execution_count": 1,
   "metadata": {
    "_cell_guid": "b1076dfc-b9ad-4769-8c92-a6c4dae69d19",
    "_uuid": "8f2839f25d086af736a60e9eeb907d3b93b6e0e5",
    "execution": {
     "iopub.execute_input": "2021-05-21T15:02:44.857616Z",
     "iopub.status.busy": "2021-05-21T15:02:44.857232Z",
     "iopub.status.idle": "2021-05-21T15:02:44.877951Z",
     "shell.execute_reply": "2021-05-21T15:02:44.876916Z",
     "shell.execute_reply.started": "2021-05-21T15:02:44.857540Z"
    }
   },
   "outputs": [
    {
     "name": "stdout",
     "output_type": "stream",
     "text": [
      "/kaggle/input/mlb-pitch-data-20152018/pitches.csv\n",
      "/kaggle/input/mlb-pitch-data-20152018/atbats.csv\n",
      "/kaggle/input/mlb-pitch-data-20152018/games.csv\n",
      "/kaggle/input/mlb-pitch-data-20152018/2019_games.csv\n",
      "/kaggle/input/mlb-pitch-data-20152018/2019_atbats.csv\n",
      "/kaggle/input/mlb-pitch-data-20152018/2019_pitches.csv\n",
      "/kaggle/input/mlb-pitch-data-20152018/player_names.csv\n",
      "/kaggle/input/mlb-pitch-data-20152018/ejections.csv\n"
     ]
    }
   ],
   "source": [
    "# This Python 3 environment comes with many helpful analytics libraries installed\n",
    "# It is defined by the kaggle/python Docker image: https://github.com/kaggle/docker-python\n",
    "# For example, here's several helpful packages to load\n",
    "\n",
    "import numpy as np # linear algebra\n",
    "import pandas as pd # data processing, CSV file I/O (e.g. pd.read_csv)\n",
    "\n",
    "# Input data files are available in the read-only \"../input/\" directory\n",
    "# For example, running this (by clicking run or pressing Shift+Enter) will list all files under the input directory\n",
    "\n",
    "import os\n",
    "for dirname, _, filenames in os.walk('/kaggle/input'):\n",
    "    for filename in filenames:\n",
    "        print(os.path.join(dirname, filename))\n",
    "\n",
    "# You can write up to 20GB to the current directory (/kaggle/working/) that gets preserved as output when you create a version using \"Save & Run All\" \n",
    "# You can also write temporary files to /kaggle/temp/, but they won't be saved outside of the current session"
   ]
  },
  {
   "cell_type": "code",
   "execution_count": 2,
   "metadata": {
    "execution": {
     "iopub.execute_input": "2021-05-21T15:02:52.195774Z",
     "iopub.status.busy": "2021-05-21T15:02:52.195459Z",
     "iopub.status.idle": "2021-05-21T15:02:52.882325Z",
     "shell.execute_reply": "2021-05-21T15:02:52.881468Z",
     "shell.execute_reply.started": "2021-05-21T15:02:52.195747Z"
    }
   },
   "outputs": [],
   "source": [
    "import seaborn as sns"
   ]
  },
  {
   "cell_type": "code",
   "execution_count": 3,
   "metadata": {
    "execution": {
     "iopub.execute_input": "2021-05-21T15:02:54.404608Z",
     "iopub.status.busy": "2021-05-21T15:02:54.404265Z",
     "iopub.status.idle": "2021-05-21T15:03:13.078358Z",
     "shell.execute_reply": "2021-05-21T15:03:13.077490Z",
     "shell.execute_reply.started": "2021-05-21T15:02:54.404577Z"
    }
   },
   "outputs": [
    {
     "name": "stdout",
     "output_type": "stream",
     "text": [
      "size: 114686160\n",
      "shape: (2867154, 40)\n",
      "columns: Index(['px', 'pz', 'start_speed', 'end_speed', 'spin_rate', 'spin_dir',\n",
      "       'break_angle', 'break_length', 'break_y', 'ax', 'ay', 'az', 'sz_bot',\n",
      "       'sz_top', 'type_confidence', 'vx0', 'vy0', 'vz0', 'x', 'x0', 'y', 'y0',\n",
      "       'z0', 'pfx_x', 'pfx_z', 'nasty', 'zone', 'code', 'type', 'pitch_type',\n",
      "       'event_num', 'b_score', 'ab_id', 'b_count', 's_count', 'outs',\n",
      "       'pitch_num', 'on_1b', 'on_2b', 'on_3b'],\n",
      "      dtype='object')\n"
     ]
    }
   ],
   "source": [
    "data_raw = pd.read_csv('/kaggle/input/mlb-pitch-data-20152018/pitches.csv')\n",
    "# Print out size, shape, and column names\n",
    "print(\"size: \" + str(data_raw.size))\n",
    "print(\"shape: \" + str(data_raw.shape))\n",
    "print(\"columns: \" + str(data_raw.columns))"
   ]
  },
  {
   "cell_type": "code",
   "execution_count": 4,
   "metadata": {
    "execution": {
     "iopub.execute_input": "2021-05-21T15:10:20.399308Z",
     "iopub.status.busy": "2021-05-21T15:10:20.398951Z",
     "iopub.status.idle": "2021-05-21T15:10:22.075999Z",
     "shell.execute_reply": "2021-05-21T15:10:22.075130Z",
     "shell.execute_reply.started": "2021-05-21T15:10:20.399276Z"
    }
   },
   "outputs": [
    {
     "name": "stdout",
     "output_type": "stream",
     "text": [
      "(55282, 34)\n"
     ]
    }
   ],
   "source": [
    "df = data_raw\n",
    "# dropping useless columns and rows with null values\n",
    "df = df.drop([\"nasty\", \"zone\", \"type_confidence\", \"pitch_type\", \"ab_id\", \"event_num\"], axis = 1)\n",
    "df = df.dropna()\n",
    "# drop everything except swinging strikes and foul balls\n",
    "df = df[df.code.isin(['S', 'F'])]\n",
    "# only 2-strike counts\n",
    "df = df[df.s_count == 2]\n",
    "df = df[df.b_count == 3]\n",
    "print(df.shape)"
   ]
  },
  {
   "cell_type": "code",
   "execution_count": 8,
   "metadata": {
    "execution": {
     "iopub.execute_input": "2021-05-21T15:11:42.463892Z",
     "iopub.status.busy": "2021-05-21T15:11:42.463551Z",
     "iopub.status.idle": "2021-05-21T15:11:42.484597Z",
     "shell.execute_reply": "2021-05-21T15:11:42.482819Z",
     "shell.execute_reply.started": "2021-05-21T15:11:42.463864Z"
    }
   },
   "outputs": [
    {
     "name": "stdout",
     "output_type": "stream",
     "text": [
      "(55282, 24)\n"
     ]
    },
    {
     "ename": "KeyError",
     "evalue": "\"['y0' 'type' 'b_score' 'outs' 'pitch_num' 'b_count' 's_count' 'on_1b'\\n 'on_2b' 'on_3b'] not found in axis\"",
     "output_type": "error",
     "traceback": [
      "\u001b[0;31m---------------------------------------------------------------------------\u001b[0m",
      "\u001b[0;31mKeyError\u001b[0m                                  Traceback (most recent call last)",
      "\u001b[0;32m<ipython-input-8-ad98a992b594>\u001b[0m in \u001b[0;36m<module>\u001b[0;34m\u001b[0m\n\u001b[1;32m      1\u001b[0m \u001b[0mprint\u001b[0m\u001b[0;34m(\u001b[0m\u001b[0mdf\u001b[0m\u001b[0;34m.\u001b[0m\u001b[0mshape\u001b[0m\u001b[0;34m)\u001b[0m\u001b[0;34m\u001b[0m\u001b[0;34m\u001b[0m\u001b[0m\n\u001b[0;32m----> 2\u001b[0;31m \u001b[0mdf\u001b[0m \u001b[0;34m=\u001b[0m \u001b[0mdf\u001b[0m\u001b[0;34m.\u001b[0m\u001b[0mdrop\u001b[0m\u001b[0;34m(\u001b[0m\u001b[0;34m[\u001b[0m\u001b[0;34m\"y0\"\u001b[0m\u001b[0;34m,\u001b[0m \u001b[0;34m\"type\"\u001b[0m\u001b[0;34m,\u001b[0m \u001b[0;34m\"b_score\"\u001b[0m\u001b[0;34m,\u001b[0m \u001b[0;34m\"outs\"\u001b[0m\u001b[0;34m,\u001b[0m \u001b[0;34m\"pitch_num\"\u001b[0m\u001b[0;34m,\u001b[0m \u001b[0;34m\"b_count\"\u001b[0m\u001b[0;34m,\u001b[0m \u001b[0;34m\"s_count\"\u001b[0m\u001b[0;34m,\u001b[0m \u001b[0;34m\"on_1b\"\u001b[0m\u001b[0;34m,\u001b[0m \u001b[0;34m\"on_2b\"\u001b[0m\u001b[0;34m,\u001b[0m \u001b[0;34m\"on_3b\"\u001b[0m\u001b[0;34m]\u001b[0m\u001b[0;34m,\u001b[0m \u001b[0maxis\u001b[0m \u001b[0;34m=\u001b[0m \u001b[0;36m1\u001b[0m\u001b[0;34m)\u001b[0m\u001b[0;34m\u001b[0m\u001b[0;34m\u001b[0m\u001b[0m\n\u001b[0m",
      "\u001b[0;32m/opt/conda/lib/python3.7/site-packages/pandas/core/frame.py\u001b[0m in \u001b[0;36mdrop\u001b[0;34m(self, labels, axis, index, columns, level, inplace, errors)\u001b[0m\n\u001b[1;32m   4172\u001b[0m             \u001b[0mlevel\u001b[0m\u001b[0;34m=\u001b[0m\u001b[0mlevel\u001b[0m\u001b[0;34m,\u001b[0m\u001b[0;34m\u001b[0m\u001b[0;34m\u001b[0m\u001b[0m\n\u001b[1;32m   4173\u001b[0m             \u001b[0minplace\u001b[0m\u001b[0;34m=\u001b[0m\u001b[0minplace\u001b[0m\u001b[0;34m,\u001b[0m\u001b[0;34m\u001b[0m\u001b[0;34m\u001b[0m\u001b[0m\n\u001b[0;32m-> 4174\u001b[0;31m             \u001b[0merrors\u001b[0m\u001b[0;34m=\u001b[0m\u001b[0merrors\u001b[0m\u001b[0;34m,\u001b[0m\u001b[0;34m\u001b[0m\u001b[0;34m\u001b[0m\u001b[0m\n\u001b[0m\u001b[1;32m   4175\u001b[0m         )\n\u001b[1;32m   4176\u001b[0m \u001b[0;34m\u001b[0m\u001b[0m\n",
      "\u001b[0;32m/opt/conda/lib/python3.7/site-packages/pandas/core/generic.py\u001b[0m in \u001b[0;36mdrop\u001b[0;34m(self, labels, axis, index, columns, level, inplace, errors)\u001b[0m\n\u001b[1;32m   3887\u001b[0m         \u001b[0;32mfor\u001b[0m \u001b[0maxis\u001b[0m\u001b[0;34m,\u001b[0m \u001b[0mlabels\u001b[0m \u001b[0;32min\u001b[0m \u001b[0maxes\u001b[0m\u001b[0;34m.\u001b[0m\u001b[0mitems\u001b[0m\u001b[0;34m(\u001b[0m\u001b[0;34m)\u001b[0m\u001b[0;34m:\u001b[0m\u001b[0;34m\u001b[0m\u001b[0;34m\u001b[0m\u001b[0m\n\u001b[1;32m   3888\u001b[0m             \u001b[0;32mif\u001b[0m \u001b[0mlabels\u001b[0m \u001b[0;32mis\u001b[0m \u001b[0;32mnot\u001b[0m \u001b[0;32mNone\u001b[0m\u001b[0;34m:\u001b[0m\u001b[0;34m\u001b[0m\u001b[0;34m\u001b[0m\u001b[0m\n\u001b[0;32m-> 3889\u001b[0;31m                 \u001b[0mobj\u001b[0m \u001b[0;34m=\u001b[0m \u001b[0mobj\u001b[0m\u001b[0;34m.\u001b[0m\u001b[0m_drop_axis\u001b[0m\u001b[0;34m(\u001b[0m\u001b[0mlabels\u001b[0m\u001b[0;34m,\u001b[0m \u001b[0maxis\u001b[0m\u001b[0;34m,\u001b[0m \u001b[0mlevel\u001b[0m\u001b[0;34m=\u001b[0m\u001b[0mlevel\u001b[0m\u001b[0;34m,\u001b[0m \u001b[0merrors\u001b[0m\u001b[0;34m=\u001b[0m\u001b[0merrors\u001b[0m\u001b[0;34m)\u001b[0m\u001b[0;34m\u001b[0m\u001b[0;34m\u001b[0m\u001b[0m\n\u001b[0m\u001b[1;32m   3890\u001b[0m \u001b[0;34m\u001b[0m\u001b[0m\n\u001b[1;32m   3891\u001b[0m         \u001b[0;32mif\u001b[0m \u001b[0minplace\u001b[0m\u001b[0;34m:\u001b[0m\u001b[0;34m\u001b[0m\u001b[0;34m\u001b[0m\u001b[0m\n",
      "\u001b[0;32m/opt/conda/lib/python3.7/site-packages/pandas/core/generic.py\u001b[0m in \u001b[0;36m_drop_axis\u001b[0;34m(self, labels, axis, level, errors)\u001b[0m\n\u001b[1;32m   3921\u001b[0m                 \u001b[0mnew_axis\u001b[0m \u001b[0;34m=\u001b[0m \u001b[0maxis\u001b[0m\u001b[0;34m.\u001b[0m\u001b[0mdrop\u001b[0m\u001b[0;34m(\u001b[0m\u001b[0mlabels\u001b[0m\u001b[0;34m,\u001b[0m \u001b[0mlevel\u001b[0m\u001b[0;34m=\u001b[0m\u001b[0mlevel\u001b[0m\u001b[0;34m,\u001b[0m \u001b[0merrors\u001b[0m\u001b[0;34m=\u001b[0m\u001b[0merrors\u001b[0m\u001b[0;34m)\u001b[0m\u001b[0;34m\u001b[0m\u001b[0;34m\u001b[0m\u001b[0m\n\u001b[1;32m   3922\u001b[0m             \u001b[0;32melse\u001b[0m\u001b[0;34m:\u001b[0m\u001b[0;34m\u001b[0m\u001b[0;34m\u001b[0m\u001b[0m\n\u001b[0;32m-> 3923\u001b[0;31m                 \u001b[0mnew_axis\u001b[0m \u001b[0;34m=\u001b[0m \u001b[0maxis\u001b[0m\u001b[0;34m.\u001b[0m\u001b[0mdrop\u001b[0m\u001b[0;34m(\u001b[0m\u001b[0mlabels\u001b[0m\u001b[0;34m,\u001b[0m \u001b[0merrors\u001b[0m\u001b[0;34m=\u001b[0m\u001b[0merrors\u001b[0m\u001b[0;34m)\u001b[0m\u001b[0;34m\u001b[0m\u001b[0;34m\u001b[0m\u001b[0m\n\u001b[0m\u001b[1;32m   3924\u001b[0m             \u001b[0mresult\u001b[0m \u001b[0;34m=\u001b[0m \u001b[0mself\u001b[0m\u001b[0;34m.\u001b[0m\u001b[0mreindex\u001b[0m\u001b[0;34m(\u001b[0m\u001b[0;34m**\u001b[0m\u001b[0;34m{\u001b[0m\u001b[0maxis_name\u001b[0m\u001b[0;34m:\u001b[0m \u001b[0mnew_axis\u001b[0m\u001b[0;34m}\u001b[0m\u001b[0;34m)\u001b[0m\u001b[0;34m\u001b[0m\u001b[0;34m\u001b[0m\u001b[0m\n\u001b[1;32m   3925\u001b[0m \u001b[0;34m\u001b[0m\u001b[0m\n",
      "\u001b[0;32m/opt/conda/lib/python3.7/site-packages/pandas/core/indexes/base.py\u001b[0m in \u001b[0;36mdrop\u001b[0;34m(self, labels, errors)\u001b[0m\n\u001b[1;32m   5285\u001b[0m         \u001b[0;32mif\u001b[0m \u001b[0mmask\u001b[0m\u001b[0;34m.\u001b[0m\u001b[0many\u001b[0m\u001b[0;34m(\u001b[0m\u001b[0;34m)\u001b[0m\u001b[0;34m:\u001b[0m\u001b[0;34m\u001b[0m\u001b[0;34m\u001b[0m\u001b[0m\n\u001b[1;32m   5286\u001b[0m             \u001b[0;32mif\u001b[0m \u001b[0merrors\u001b[0m \u001b[0;34m!=\u001b[0m \u001b[0;34m\"ignore\"\u001b[0m\u001b[0;34m:\u001b[0m\u001b[0;34m\u001b[0m\u001b[0;34m\u001b[0m\u001b[0m\n\u001b[0;32m-> 5287\u001b[0;31m                 \u001b[0;32mraise\u001b[0m \u001b[0mKeyError\u001b[0m\u001b[0;34m(\u001b[0m\u001b[0;34mf\"{labels[mask]} not found in axis\"\u001b[0m\u001b[0;34m)\u001b[0m\u001b[0;34m\u001b[0m\u001b[0;34m\u001b[0m\u001b[0m\n\u001b[0m\u001b[1;32m   5288\u001b[0m             \u001b[0mindexer\u001b[0m \u001b[0;34m=\u001b[0m \u001b[0mindexer\u001b[0m\u001b[0;34m[\u001b[0m\u001b[0;34m~\u001b[0m\u001b[0mmask\u001b[0m\u001b[0;34m]\u001b[0m\u001b[0;34m\u001b[0m\u001b[0;34m\u001b[0m\u001b[0m\n\u001b[1;32m   5289\u001b[0m         \u001b[0;32mreturn\u001b[0m \u001b[0mself\u001b[0m\u001b[0;34m.\u001b[0m\u001b[0mdelete\u001b[0m\u001b[0;34m(\u001b[0m\u001b[0mindexer\u001b[0m\u001b[0;34m)\u001b[0m\u001b[0;34m\u001b[0m\u001b[0;34m\u001b[0m\u001b[0m\n",
      "\u001b[0;31mKeyError\u001b[0m: \"['y0' 'type' 'b_score' 'outs' 'pitch_num' 'b_count' 's_count' 'on_1b'\\n 'on_2b' 'on_3b'] not found in axis\""
     ]
    }
   ],
   "source": [
    "print(df.shape)\n",
    "df = df.drop([\"y0\", \"type\", \"b_score\", \"outs\", \"pitch_num\", \"b_count\", \"s_count\", \"on_1b\", \"on_2b\", \"on_3b\"], axis = 1)"
   ]
  },
  {
   "cell_type": "code",
   "execution_count": 12,
   "metadata": {
    "execution": {
     "iopub.execute_input": "2021-05-21T15:13:53.580783Z",
     "iopub.status.busy": "2021-05-21T15:13:53.580408Z",
     "iopub.status.idle": "2021-05-21T15:13:53.585468Z",
     "shell.execute_reply": "2021-05-21T15:13:53.584468Z",
     "shell.execute_reply.started": "2021-05-21T15:13:53.580754Z"
    }
   },
   "outputs": [
    {
     "name": "stdout",
     "output_type": "stream",
     "text": [
      "Index(['px', 'pz', 'start_speed', 'end_speed', 'spin_rate', 'spin_dir',\n",
      "       'break_angle', 'break_length', 'break_y', 'ax', 'ay', 'az', 'sz_bot',\n",
      "       'sz_top', 'vx0', 'vy0', 'vz0', 'x', 'x0', 'y', 'z0', 'pfx_x', 'pfx_z',\n",
      "       'code'],\n",
      "      dtype='object')\n"
     ]
    }
   ],
   "source": [
    "print(df.columns)"
   ]
  },
  {
   "cell_type": "code",
   "execution_count": 9,
   "metadata": {
    "execution": {
     "iopub.execute_input": "2021-05-21T15:12:02.935301Z",
     "iopub.status.busy": "2021-05-21T15:12:02.934988Z",
     "iopub.status.idle": "2021-05-21T15:12:02.967999Z",
     "shell.execute_reply": "2021-05-21T15:12:02.967247Z",
     "shell.execute_reply.started": "2021-05-21T15:12:02.935270Z"
    }
   },
   "outputs": [
    {
     "name": "stdout",
     "output_type": "stream",
     "text": [
      "(15199, 24)\n"
     ]
    },
    {
     "data": {
      "text/plain": [
       "(30398, 24)"
      ]
     },
     "execution_count": 9,
     "metadata": {},
     "output_type": "execute_result"
    }
   ],
   "source": [
    "# balance out the cases\n",
    "strikes = df[df.code == 'S']\n",
    "fouls = df[df.code == 'F']\n",
    "fouls = fouls[0:len(strikes)]\n",
    "tojoin = [strikes, fouls]\n",
    "df = pd.concat(tojoin)\n",
    "print(strikes.shape)\n",
    "df.shape"
   ]
  },
  {
   "cell_type": "code",
   "execution_count": 19,
   "metadata": {
    "execution": {
     "iopub.execute_input": "2021-05-21T15:16:10.273053Z",
     "iopub.status.busy": "2021-05-21T15:16:10.272742Z",
     "iopub.status.idle": "2021-05-21T15:16:10.395893Z",
     "shell.execute_reply": "2021-05-21T15:16:10.395066Z",
     "shell.execute_reply.started": "2021-05-21T15:16:10.273023Z"
    }
   },
   "outputs": [],
   "source": [
    "from sklearn.preprocessing import PolynomialFeatures\n",
    "from sklearn.pipeline import make_pipeline\n",
    "from sklearn.linear_model import LinearRegression\n",
    "import sklearn.model_selection as tts"
   ]
  },
  {
   "cell_type": "code",
   "execution_count": 44,
   "metadata": {
    "execution": {
     "iopub.execute_input": "2021-05-21T15:26:54.034288Z",
     "iopub.status.busy": "2021-05-21T15:26:54.033979Z",
     "iopub.status.idle": "2021-05-21T15:26:54.048953Z",
     "shell.execute_reply": "2021-05-21T15:26:54.047787Z",
     "shell.execute_reply.started": "2021-05-21T15:26:54.034260Z"
    }
   },
   "outputs": [
    {
     "name": "stdout",
     "output_type": "stream",
     "text": [
      "[1 1 1 ... 0 0 0]\n"
     ]
    }
   ],
   "source": [
    "from sklearn import preprocessing\n",
    "#creating labelEncoder\n",
    "le = preprocessing.LabelEncoder()\n",
    "code_encoded = le.fit_transform(df.code) #S = 1, F = 0\n",
    "print(code_encoded)"
   ]
  },
  {
   "cell_type": "code",
   "execution_count": 45,
   "metadata": {
    "execution": {
     "iopub.execute_input": "2021-05-21T15:27:53.357069Z",
     "iopub.status.busy": "2021-05-21T15:27:53.356759Z",
     "iopub.status.idle": "2021-05-21T15:27:54.822415Z",
     "shell.execute_reply": "2021-05-21T15:27:54.821584Z",
     "shell.execute_reply.started": "2021-05-21T15:27:53.357040Z"
    }
   },
   "outputs": [],
   "source": [
    "features_train, features_test, labels_train, labels_test = tts.train_test_split(df.transpose()[:23].transpose(), code_encoded, test_size = 0.3, random_state = 69)"
   ]
  },
  {
   "cell_type": "code",
   "execution_count": 46,
   "metadata": {
    "execution": {
     "iopub.execute_input": "2021-05-21T15:27:56.330807Z",
     "iopub.status.busy": "2021-05-21T15:27:56.330485Z",
     "iopub.status.idle": "2021-05-21T15:27:56.335947Z",
     "shell.execute_reply": "2021-05-21T15:27:56.335001Z",
     "shell.execute_reply.started": "2021-05-21T15:27:56.330778Z"
    }
   },
   "outputs": [
    {
     "name": "stdout",
     "output_type": "stream",
     "text": [
      "(21278, 23)\n",
      "(9120, 23)\n",
      "(21278,)\n",
      "(9120,)\n"
     ]
    }
   ],
   "source": [
    "print(features_train.shape)\n",
    "print(features_test.shape)\n",
    "print(labels_train.shape)\n",
    "print(labels_test.shape)"
   ]
  },
  {
   "cell_type": "code",
   "execution_count": 47,
   "metadata": {
    "execution": {
     "iopub.execute_input": "2021-05-21T15:28:03.775554Z",
     "iopub.status.busy": "2021-05-21T15:28:03.775177Z",
     "iopub.status.idle": "2021-05-21T15:28:03.779955Z",
     "shell.execute_reply": "2021-05-21T15:28:03.779050Z",
     "shell.execute_reply.started": "2021-05-21T15:28:03.775522Z"
    }
   },
   "outputs": [
    {
     "name": "stdout",
     "output_type": "stream",
     "text": [
      "[1 1 0 ... 0 1 1]\n",
      "<class 'numpy.ndarray'>\n"
     ]
    }
   ],
   "source": [
    "print(labels_test)\n",
    "print(type(labels_test))"
   ]
  },
  {
   "cell_type": "code",
   "execution_count": 48,
   "metadata": {
    "execution": {
     "iopub.execute_input": "2021-05-21T15:28:08.623379Z",
     "iopub.status.busy": "2021-05-21T15:28:08.623052Z",
     "iopub.status.idle": "2021-05-21T15:28:08.666809Z",
     "shell.execute_reply": "2021-05-21T15:28:08.665812Z",
     "shell.execute_reply.started": "2021-05-21T15:28:08.623348Z"
    }
   },
   "outputs": [
    {
     "data": {
      "text/plain": [
       "GaussianNB()"
      ]
     },
     "execution_count": 48,
     "metadata": {},
     "output_type": "execute_result"
    }
   ],
   "source": [
    "from sklearn.naive_bayes import GaussianNB\n",
    "\n",
    "#Create a Gaussian Classifier\n",
    "model = GaussianNB()\n",
    "\n",
    "# Train the model using the training sets\n",
    "model.fit(features_train, labels_train)"
   ]
  },
  {
   "cell_type": "code",
   "execution_count": 39,
   "metadata": {
    "execution": {
     "iopub.execute_input": "2021-05-21T15:22:44.597955Z",
     "iopub.status.busy": "2021-05-21T15:22:44.597649Z",
     "iopub.status.idle": "2021-05-21T15:22:44.602902Z",
     "shell.execute_reply": "2021-05-21T15:22:44.601970Z",
     "shell.execute_reply.started": "2021-05-21T15:22:44.597927Z"
    }
   },
   "outputs": [],
   "source": [
    "labels_train = labels_train.tolist()"
   ]
  },
  {
   "cell_type": "code",
   "execution_count": 49,
   "metadata": {
    "execution": {
     "iopub.execute_input": "2021-05-21T15:28:21.513430Z",
     "iopub.status.busy": "2021-05-21T15:28:21.513052Z",
     "iopub.status.idle": "2021-05-21T15:28:21.536390Z",
     "shell.execute_reply": "2021-05-21T15:28:21.535189Z",
     "shell.execute_reply.started": "2021-05-21T15:28:21.513376Z"
    }
   },
   "outputs": [
    {
     "name": "stdout",
     "output_type": "stream",
     "text": [
      "[1 1 0 ... 1 0 0]\n"
     ]
    }
   ],
   "source": [
    "predictions = model.predict(features_test)\n",
    "print(predictions)"
   ]
  },
  {
   "cell_type": "code",
   "execution_count": 54,
   "metadata": {
    "execution": {
     "iopub.execute_input": "2021-05-21T15:29:32.813692Z",
     "iopub.status.busy": "2021-05-21T15:29:32.813282Z",
     "iopub.status.idle": "2021-05-21T15:29:32.821707Z",
     "shell.execute_reply": "2021-05-21T15:29:32.820534Z",
     "shell.execute_reply.started": "2021-05-21T15:29:32.813655Z"
    }
   },
   "outputs": [
    {
     "name": "stdout",
     "output_type": "stream",
     "text": [
      "Accuracy: 0.6115131578947368\n"
     ]
    }
   ],
   "source": [
    "from sklearn import metrics\n",
    "\n",
    "# Model Accuracy, how often is the classifier correct?\n",
    "\n",
    "print(\"Accuracy:\",metrics.accuracy_score(labels_test, predictions))\n",
    "\n",
    "# right = 0\n",
    "# for i in range(len(predictions)):\n",
    "#     if (predictions[i] == labels_train[i]):\n",
    "#         right += 1\n",
    "        \n",
    "# print(right / len(predictions))"
   ]
  },
  {
   "cell_type": "code",
   "execution_count": null,
   "metadata": {},
   "outputs": [],
   "source": [
    "from sklearn.neural_network import MLPRegressor\n",
    "fear = MLPRegressor(random_state=1, max_iter=100).fit(features_train, labels_train)\n",
    "fear.score(features_test, labels_test)"
   ]
  },
  {
   "cell_type": "code",
   "execution_count": null,
   "metadata": {
    "execution": {
     "iopub.execute_input": "2021-05-20T15:00:04.307955Z",
     "iopub.status.busy": "2021-05-20T15:00:04.307641Z"
    }
   },
   "outputs": [],
   "source": [
    "degree = 5\n",
    "polyreg = make_pipeline(PolynomialFeatures(degree),LinearRegression())\n",
    "polyreg.fit(features_train,labels_train)"
   ]
  },
  {
   "cell_type": "code",
   "execution_count": null,
   "metadata": {},
   "outputs": [],
   "source": [
    "import matplotlib.pyplot as plt\n",
    "plt.figure()\n",
    "plt.scatter(features_train,labels_train)\n",
    "plt.plot(features_test,polyreg.predict(features_test),color=\"black\")\n",
    "plt.title(\"Polynomial regression with degree \"+str(degree))\n",
    "plt.show()"
   ]
  },
  {
   "cell_type": "markdown",
   "metadata": {},
   "source": []
  },
  {
   "cell_type": "code",
   "execution_count": null,
   "metadata": {},
   "outputs": [],
   "source": [
    "# convert pitch outcomes to numbers so they can be plotted\n",
    "# higher number = better outcome\n",
    "# outcomes = {'S': 1, 'C': 1, 'W': 1, 'T': 0.75, 'F': 0.5, 'X': 0.25, 'D': 0, 'E': 0 }\n",
    "# df['code_num'] = df['code'].map(outcomes)\n",
    "# df = df.drop(['code'], axis = 1) \n",
    "sns.displot(df.code_num)"
   ]
  }
 ],
 "metadata": {
  "kernelspec": {
   "display_name": "Python 3",
   "language": "python",
   "name": "python3"
  },
  "language_info": {
   "codemirror_mode": {
    "name": "ipython",
    "version": 3
   },
   "file_extension": ".py",
   "mimetype": "text/x-python",
   "name": "python",
   "nbconvert_exporter": "python",
   "pygments_lexer": "ipython3",
   "version": "3.7.9"
  }
 },
 "nbformat": 4,
 "nbformat_minor": 4
}
